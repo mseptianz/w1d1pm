{
 "cells": [
  {
   "cell_type": "markdown",
   "metadata": {},
   "source": [
    "Nama = Muhammad Septian Zamzani\n",
    "\n",
    "Batch = HCK-021"
   ]
  },
  {
   "cell_type": "markdown",
   "metadata": {},
   "source": [
    "# Non Grade Chalenge "
   ]
  },
  {
   "cell_type": "markdown",
   "metadata": {},
   "source": [
    "## NGC 1"
   ]
  },
  {
   "cell_type": "markdown",
   "metadata": {},
   "source": [
    "### Task 1"
   ]
  },
  {
   "cell_type": "code",
   "execution_count": 5,
   "metadata": {},
   "outputs": [],
   "source": [
    "customer_id = ['B818', 'A461', 'A092', 'A082', 'B341', 'A005', 'A092', 'A461','B219', 'B904', 'A901', 'A083', 'B904', 'A092', 'B341', 'B821','B341', 'B821', 'B904', 'B818', 'A901', 'A083', 'B818', 'A082','B219', 'B219', 'A083', 'A901', 'A082', 'B341', 'B341', 'A083','A082', 'B219', 'B439', 'A461', 'A005', 'A901', 'B341', 'A082','A083', 'A461', 'A083', 'A901', 'A461', 'A083', 'A082', 'A083','B341', 'A901', 'A082', 'A461', 'B219', 'A083', 'B818', 'B821','A092', 'B341', 'A461', 'A092', 'A083', 'B821', 'A092']\n"
   ]
  },
  {
   "cell_type": "markdown",
   "metadata": {},
   "source": [
    "How many unique customer_id from above list?"
   ]
  },
  {
   "cell_type": "code",
   "execution_count": 11,
   "metadata": {},
   "outputs": [
    {
     "name": "stdout",
     "output_type": "stream",
     "text": [
      "Pada list diatas terdapat 12 nilai unik\n",
      "Yaitu : {'A082', 'A092', 'B821', 'A901', 'B439', 'B904', 'A083', 'A005', 'A461', 'B341', 'B219', 'B818'}\n"
     ]
    }
   ],
   "source": [
    "print(f\"Pada list diatas terdapat {len(set(customer_id))} nilai unik\")\n",
    "print(f\"Yaitu : {set(customer_id )}\")"
   ]
  },
  {
   "cell_type": "markdown",
   "metadata": {},
   "source": [
    "### Task 2"
   ]
  },
  {
   "cell_type": "markdown",
   "metadata": {},
   "source": [
    "Given list of:\n",
    "\n",
    "Data = [1, 4, 9, 16, 25, 36, 49,  64, 81, 100]\n",
    "\n",
    "Use indexing so you can get this output:\n",
    "\n",
    "a.16\n",
    "\n",
    "b.[36, 49, 64, 81]\n",
    "\n",
    "c.[100, 81, 64, 49, 36, 25, 16, 9, 4, 1]"
   ]
  },
  {
   "cell_type": "code",
   "execution_count": 12,
   "metadata": {},
   "outputs": [],
   "source": [
    "Data = [1, 4, 9, 16, 25, 36, 49,  64, 81, 100]"
   ]
  },
  {
   "cell_type": "code",
   "execution_count": 13,
   "metadata": {},
   "outputs": [
    {
     "data": {
      "text/plain": [
       "16"
      ]
     },
     "execution_count": 13,
     "metadata": {},
     "output_type": "execute_result"
    }
   ],
   "source": [
    "Data[3]"
   ]
  },
  {
   "cell_type": "code",
   "execution_count": 14,
   "metadata": {},
   "outputs": [
    {
     "data": {
      "text/plain": [
       "[36, 49, 64, 81]"
      ]
     },
     "execution_count": 14,
     "metadata": {},
     "output_type": "execute_result"
    }
   ],
   "source": [
    "Data[5:9]"
   ]
  },
  {
   "cell_type": "code",
   "execution_count": 20,
   "metadata": {},
   "outputs": [
    {
     "data": {
      "text/plain": [
       "[100, 81, 64, 49, 36, 25, 16, 9, 4, 1]"
      ]
     },
     "execution_count": 20,
     "metadata": {},
     "output_type": "execute_result"
    }
   ],
   "source": [
    "Data.reverse()\n",
    "Data"
   ]
  },
  {
   "cell_type": "markdown",
   "metadata": {},
   "source": [
    "### Task 3"
   ]
  },
  {
   "cell_type": "markdown",
   "metadata": {},
   "source": [
    "Given a dictionary of:\n",
    "\n",
    "provinsi = {'Nanggroe Aceh Darussalam': 'Aceh','Sumatera Selatan': 'Palembang','Kalimantan Barat': 'Pontianak','Jawa Timur': 'Madiun','Sulawesi Selatan': 'Makassar','Maluku': 'Ambon'}\n",
    "\n",
    "What python command can be use to:\n",
    "a.Get list of keys available in dictionary\n",
    "b.Change 'Jawa Timur' value from 'Madiun'  to 'Surabaya'\n"
   ]
  },
  {
   "cell_type": "code",
   "execution_count": 39,
   "metadata": {},
   "outputs": [],
   "source": [
    "provinsi = {'Nanggroe Aceh Darussalam': 'Aceh','Sumatera Selatan': 'Palembang',\n",
    "            'Kalimantan Barat': 'Pontianak','Jawa Timur': 'Madiun',\n",
    "            'Sulawesi Selatan': 'Makassar','Maluku': 'Ambon'}"
   ]
  },
  {
   "cell_type": "code",
   "execution_count": 30,
   "metadata": {},
   "outputs": [
    {
     "data": {
      "text/plain": [
       "dict_keys(['Nanggroe Aceh Darussalam', 'Sumatera Selatan', 'Kalimantan Barat', 'Jawa Timur', 'Sulawesi Selatan', 'Maluku'])"
      ]
     },
     "execution_count": 30,
     "metadata": {},
     "output_type": "execute_result"
    }
   ],
   "source": [
    "provinsi.keys()"
   ]
  },
  {
   "cell_type": "code",
   "execution_count": 40,
   "metadata": {},
   "outputs": [
    {
     "name": "stdout",
     "output_type": "stream",
     "text": [
      "Ibu kota jawa timur dulu : Madiun\n",
      "Ibu kota jawa timur sekarang : Surabaya\n"
     ]
    }
   ],
   "source": [
    "\n",
    "print(f\"Ibu kota jawa timur dulu : {provinsi[\"Jawa Timur\"]}\")\n",
    "provinsi[\"Jawa Timur\"] = \"Surabaya\"\n",
    "print(f\"Ibu kota jawa timur sekarang : {provinsi[\"Jawa Timur\"]}\")"
   ]
  },
  {
   "cell_type": "code",
   "execution_count": null,
   "metadata": {},
   "outputs": [],
   "source": []
  },
  {
   "cell_type": "markdown",
   "metadata": {},
   "source": [
    "## NGC 2"
   ]
  },
  {
   "cell_type": "markdown",
   "metadata": {},
   "source": [
    "### Task 1"
   ]
  },
  {
   "cell_type": "markdown",
   "metadata": {},
   "source": [
    "Create a function that count the number of word in a sentence.\n",
    "\n",
    "Instruction:\n",
    "\n",
    "1.Create function called `number_of_word`.\n",
    "\n",
    "2.This function takes 1 input, `sentence`.\n",
    "\n",
    "3.Inside this function, you can utilize `.split()` method to split the sentence into list of word(s).\n",
    "\n",
    "4.Also, `len()` function to count the element inside a list.\n",
    "\n",
    "5.Return the number of word from the sentence.\n",
    "\n",
    "Example:-Input: number_of_word(sentence = ’Hello World!’)\n",
    "                               -Output: 2\n",
    "                               \n",
    "        -Input: number_of_word(sentence = ’Once Upon a Time in a faraway land’)\n",
    "                               -Output: 84\n"
   ]
  },
  {
   "cell_type": "code",
   "execution_count": 45,
   "metadata": {},
   "outputs": [],
   "source": [
    "def number_of_word(sentence):\n",
    "    x = sentence.split()\n",
    "    return f\"Kalimat anda terdapat {len(x)} kata\""
   ]
  },
  {
   "cell_type": "code",
   "execution_count": 48,
   "metadata": {},
   "outputs": [
    {
     "data": {
      "text/plain": [
       "'Kalimat anda terdapat 4 kata'"
      ]
     },
     "execution_count": 48,
     "metadata": {},
     "output_type": "execute_result"
    }
   ],
   "source": [
    "number_of_word(\"apa kabar kalian semua \")"
   ]
  },
  {
   "cell_type": "code",
   "execution_count": 55,
   "metadata": {},
   "outputs": [],
   "source": [
    "def number_of_word2():\n",
    "    sentence = input(\"Masukan kalimat yang anda inginkan : \")\n",
    "    x = sentence.split()\n",
    "    return f\"kalimat anda terdapat {len(x)} kata\""
   ]
  },
  {
   "cell_type": "code",
   "execution_count": 56,
   "metadata": {},
   "outputs": [
    {
     "data": {
      "text/plain": [
       "'kalimat anda terdapat 2 kata'"
      ]
     },
     "execution_count": 56,
     "metadata": {},
     "output_type": "execute_result"
    }
   ],
   "source": [
    "number_of_word2()"
   ]
  },
  {
   "cell_type": "markdown",
   "metadata": {},
   "source": [
    "### Task 2"
   ]
  },
  {
   "cell_type": "markdown",
   "metadata": {},
   "source": [
    "Instruction:\n",
    "\n",
    "1.Create function called `find_multiples`.\n",
    "\n",
    "2.This function takes 3 input: `start_range`, `end_range`, and `multiple`.\n",
    "\n",
    "3.From every number within the given range, check if that number is the mutliples of `multiple`.\n",
    "\n",
    "4.Return list of the possible multiple number(s).\n",
    "\n",
    "Example:\n",
    "\n",
    "-Input: find_multiple(start_range= 1, end_range= 20, multiple= 5)\n",
    "-Output: [5, 10, 15, 20]\n",
    "\n",
    "-Input: find_multiple(start_range= 1, end_range= 50, multiple= 10)\n",
    "-Output: [10, 20, 30, 40, 50]5\n"
   ]
  },
  {
   "cell_type": "code",
   "execution_count": 64,
   "metadata": {},
   "outputs": [],
   "source": [
    "def find_multiples(start_range,end_range,multiple):\n",
    "    list = []\n",
    "    for i in range(start_range,end_range):\n",
    "        if i % multiple == 0:\n",
    "            list.append(i)\n",
    "    return list"
   ]
  },
  {
   "cell_type": "code",
   "execution_count": 68,
   "metadata": {},
   "outputs": [
    {
     "data": {
      "text/plain": [
       "[20, 25, 30, 35, 40, 45, 50, 55, 60, 65, 70, 75, 80, 85, 90, 95]"
      ]
     },
     "execution_count": 68,
     "metadata": {},
     "output_type": "execute_result"
    }
   ],
   "source": [
    "find_multiples(start_range=20,end_range=100,multiple=5)\n"
   ]
  },
  {
   "cell_type": "markdown",
   "metadata": {},
   "source": [
    "### Task 3"
   ]
  },
  {
   "cell_type": "markdown",
   "metadata": {},
   "source": [
    "Create a function that will convert student’s grade to GPA.\n",
    "\n",
    "Example:\n",
    "-Input: Grade_Converter(convert_to='gpa', Adam=62, Faiz=91)\n",
    "-Output: {'Adam': 2.5, 'Faiz': 4}\n",
    "\n",
    "-Input: Grade_Converter(convert_to='letter_grade', Albert=90, Dwi=82, Syahdan=58, Veronica=84)\n",
    "-Output: {'Albert': 'A', 'Dwi': 'B', 'Syahdan': 'D','Veronica': 'B'}"
   ]
  },
  {
   "cell_type": "code",
   "execution_count": 94,
   "metadata": {},
   "outputs": [],
   "source": [
    "def grade_converter(convert_to, **data):\n",
    "    results = {}  # Dictionary to store the converted results\n",
    "    \n",
    "    for key, value in data.items():\n",
    "        # Print the original value\n",
    "        print(f\"{key} = {value}\")\n",
    "\n",
    "        if convert_to == 'letter_grade':\n",
    "            if value > 100:\n",
    "                results[key] = \"Nilai tidak sesuai\"\n",
    "            elif 85 <= value <= 100:\n",
    "                results[key] = 'A'\n",
    "            elif 70 <= value < 85:\n",
    "                results[key] = 'B'\n",
    "            elif 60 <= value < 70:\n",
    "                results[key] = 'C'\n",
    "            elif 50 <= value < 60:\n",
    "                results[key] = 'D'\n",
    "            elif 40 <= value < 50:\n",
    "                results[key] = 'E'\n",
    "            else:\n",
    "                results[key] = 'F'\n",
    "                \n",
    "        elif convert_to == 'gpa':\n",
    "            if value > 100:\n",
    "                results[key] = \"Nilai tidak sesuai\"\n",
    "            elif 85 <= value <= 100:\n",
    "                results[key] = 4\n",
    "            elif 70 <= value < 85:\n",
    "                results[key] = 3\n",
    "            elif 60 <= value < 70:\n",
    "                results[key] = 2.5\n",
    "            elif 50 <= value < 60:\n",
    "                results[key] = 2\n",
    "            elif 40 <= value < 50:\n",
    "                results[key] = 1.5\n",
    "            else:\n",
    "                results[key] = 1\n",
    "\n",
    "    return results\n"
   ]
  },
  {
   "cell_type": "code",
   "execution_count": 95,
   "metadata": {},
   "outputs": [
    {
     "name": "stdout",
     "output_type": "stream",
     "text": [
      "Andi = 110\n",
      "Baso = 70\n",
      "{'Andi': 'Nilai tidak sesuai', 'Baso': 3}\n",
      "Andi = 90\n",
      "Baso = 70\n",
      "{'Andi': 'A', 'Baso': 'B'}\n"
     ]
    }
   ],
   "source": [
    "# Convert to GPA\n",
    "converted_gpas = grade_converter(convert_to='gpa', Andi=110, Baso=70)\n",
    "print(converted_gpas)\n",
    "\n",
    "# Convert to Letter Grade\n",
    "converted_grades = grade_converter(convert_to='letter_grade', Andi=90, Baso=70)\n",
    "print(converted_grades)\n"
   ]
  },
  {
   "cell_type": "markdown",
   "metadata": {},
   "source": [
    "### Task 4"
   ]
  },
  {
   "cell_type": "markdown",
   "metadata": {},
   "source": [
    "Fibonacci sequence is a sequence in which each number is the sum of the two preceding ones. \n",
    "\n",
    "Suppose we have fibonacci sequence started with:0, 1, 1, 2, 3, 5, ...\n",
    "\n",
    "The next number should be 8 or sum of the two precedings, 3 and 5:0, 1, 1, 2, 3, 5, 8, ...Then the next number should be 13 or sum of the two precedings, 5 and 8:0, 1, 1, 2, 3, 5, 8, 13,  ...And so on.8\n"
   ]
  },
  {
   "cell_type": "code",
   "execution_count": 97,
   "metadata": {},
   "outputs": [
    {
     "ename": "UnboundLocalError",
     "evalue": "cannot access local variable 'i' where it is not associated with a value",
     "output_type": "error",
     "traceback": [
      "\u001b[1;31m---------------------------------------------------------------------------\u001b[0m",
      "\u001b[1;31mUnboundLocalError\u001b[0m                         Traceback (most recent call last)",
      "Cell \u001b[1;32mIn[97], line 6\u001b[0m\n\u001b[0;32m      4\u001b[0m         i \u001b[38;5;241m=\u001b[39m angka[\u001b[38;5;241m0\u001b[39m]\n\u001b[0;32m      5\u001b[0m         \u001b[38;5;28mprint\u001b[39m(i)\n\u001b[1;32m----> 6\u001b[0m fibonacci(\u001b[38;5;241m1\u001b[39m,\u001b[38;5;241m2\u001b[39m,\u001b[38;5;241m3\u001b[39m)\n",
      "Cell \u001b[1;32mIn[97], line 3\u001b[0m, in \u001b[0;36mfibonacci\u001b[1;34m(*angka)\u001b[0m\n\u001b[0;32m      1\u001b[0m \u001b[38;5;28;01mdef\u001b[39;00m \u001b[38;5;21mfibonacci\u001b[39m(\u001b[38;5;241m*\u001b[39mangka):\n\u001b[0;32m      2\u001b[0m     x \u001b[38;5;241m=\u001b[39m \u001b[38;5;241m100\u001b[39m\n\u001b[1;32m----> 3\u001b[0m     \u001b[38;5;28;01mwhile\u001b[39;00m i \u001b[38;5;129;01min\u001b[39;00m angka \u001b[38;5;241m<\u001b[39m x:\n\u001b[0;32m      4\u001b[0m         i \u001b[38;5;241m=\u001b[39m angka[\u001b[38;5;241m0\u001b[39m]\n\u001b[0;32m      5\u001b[0m         \u001b[38;5;28mprint\u001b[39m(i)\n",
      "\u001b[1;31mUnboundLocalError\u001b[0m: cannot access local variable 'i' where it is not associated with a value"
     ]
    }
   ],
   "source": [
    "def fibonacci(*angka):\n",
    "    x = 100\n",
    "    while i in angka < x:\n",
    "        i = angka[0]\n",
    "        print(i)\n",
    "fibonacci(1,2,3)\n",
    "\n"
   ]
  },
  {
   "cell_type": "markdown",
   "metadata": {},
   "source": []
  }
 ],
 "metadata": {
  "kernelspec": {
   "display_name": "base",
   "language": "python",
   "name": "python3"
  },
  "language_info": {
   "codemirror_mode": {
    "name": "ipython",
    "version": 3
   },
   "file_extension": ".py",
   "mimetype": "text/x-python",
   "name": "python",
   "nbconvert_exporter": "python",
   "pygments_lexer": "ipython3",
   "version": "3.12.4"
  }
 },
 "nbformat": 4,
 "nbformat_minor": 2
}
