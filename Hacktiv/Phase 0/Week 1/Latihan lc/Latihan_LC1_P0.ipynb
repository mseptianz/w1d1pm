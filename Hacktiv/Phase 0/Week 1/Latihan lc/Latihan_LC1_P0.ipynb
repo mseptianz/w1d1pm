{
  "cells": [
    {
      "cell_type": "markdown",
      "metadata": {
        "id": "lCHIkZZHY7w9"
      },
      "source": [
        "#### 1. Buatlah fungsi untuk menghitung `jumlah kalori terbakar` berdasarkan `jenis kegiatan` dan `durasi dalam menit`, dengan ketentuan di bawah:\n",
        "\n",
        "<div align=\"center\">\n",
        "\n",
        "|Kegiatan|Kalori Terbakar per Menit|\n",
        "|--|--|\n",
        "|Berlari|10|\n",
        "|Bersepeda|8|\n",
        "|Berenang|12|\n",
        "\n",
        "\n",
        "</div>\n",
        "\n",
        "contoh:\n",
        "```\n",
        ">>> input: calories_burned(duration=60, exercise='berenang')\n",
        ">>> output: 720\n",
        "\n",
        ">>> input: calories_burned(duration=15, exercise='berlari')\n",
        ">>> output: 150\n",
        "\n",
        ">>> input:calories_burned(duration=20, exercise='bersepeda')\n",
        ">>> output: 160\n",
        "```"
      ]
    },
    {
      "cell_type": "code",
      "execution_count": 1,
      "metadata": {
        "id": "ExBJkWTq3yE3"
      },
      "outputs": [],
      "source": [
        "def calories_burned(duration, exercise):\n",
        "    if exercise == \"berlari\":\n",
        "      return duration * 10\n",
        "    elif exercise == \"bersepeda\":\n",
        "      return duration * 8\n",
        "    elif exercise == \"berenang\":\n",
        "      return duration * 12\n",
        "    else:\n",
        "      return \"exercise tidak tersedia\""
      ]
    },
    {
      "cell_type": "code",
      "execution_count": 2,
      "metadata": {
        "colab": {
          "base_uri": "https://localhost:8080/"
        },
        "id": "qSn_RKJEvCNq",
        "outputId": "61775e2d-3a58-4788-9183-6a39ce5058e8"
      },
      "outputs": [
        {
          "data": {
            "text/plain": [
              "480"
            ]
          },
          "execution_count": 2,
          "metadata": {},
          "output_type": "execute_result"
        }
      ],
      "source": [
        "calories_burned(60,'bersepeda')"
      ]
    },
    {
      "cell_type": "markdown",
      "metadata": {
        "id": "uVYOZdpMaRC6"
      },
      "source": [
        "#### 2. Buat function untuk menghitung `total kalori terbakar` dari `beberapa sesi latihan`, manfaatkan fungsi yang telah dibuat sebelumnya di dalam function ini.\n",
        "\n",
        "Notes:\n",
        "- Dalam kasus ini diasumsikan setiap sesi latihan memiliki durasi yang sama (`each_session_duration`).\n",
        "- Function yang dibuat memiliki input argumen berupa: `n-length jenis latihan yang dilakukan di setiap sesinya` dan `each_session_duration`\n",
        "- Manfaatkan `*args` variable-length input untuk memasukkan jenis latihan.\n",
        "- Manfaatkan function yang telah dibuat sebelumnya untuk mengitung kalori terbakar di setiap sesi\n",
        "\n",
        "Contoh:\n",
        "```\n",
        ">>> input: total_session_burned_cal('berenang', 'bersepeda', each_session_duration=10)\n",
        ">>> output: 200\n",
        "\n",
        "penjelasan:\n",
        "kegiatan berenang dilakukan 10 menit dan kegiatan bersepeda dilakukan 10 menit dapat membakar total 200 kalori\n",
        "\n",
        ">>> input: total_session_burned_cal('berenang', 'berlari', 'bersepeda', each_session_duration=5)\n",
        ">>> output: 150\n",
        "\n",
        "penjelasan:\n",
        "kegiatan berenang, berlari dan bersepeda yang masing-masing dilakukan 5 menit dapat membakar 150 kalori.\n",
        "```"
      ]
    },
    {
      "cell_type": "code",
      "execution_count": 1,
      "metadata": {
        "id": "-0D6kufMxmQa"
      },
      "outputs": [],
      "source": [
        "def total_calories_burned(each_session_duration, *exercises):\n",
        "    # Dictionary to map exercises to their calorie burn rates\n",
        "    calorie_rates = {\n",
        "        \"berlari\": 10,\n",
        "        \"bersepeda\": 8,\n",
        "        \"berenang\": 12\n",
        "    }\n",
        "\n",
        "    total_calories = 0\n",
        "\n",
        "    for exercise in exercises:\n",
        "        if exercise in calorie_rates:\n",
        "            total_calories += each_session_duration * calorie_rates[exercise]\n",
        "        else:\n",
        "            return \"Exercise tidak tersedia\"\n",
        "\n",
        "    return total_calories\n",
        "    \n"
      ]
    },
    {
      "cell_type": "code",
      "execution_count": 2,
      "metadata": {
        "colab": {
          "base_uri": "https://localhost:8080/"
        },
        "id": "2gUdxZXU4whd",
        "outputId": "91429e0a-d6b1-44e9-e2ce-18f64d8e287b"
      },
      "outputs": [
        {
          "name": "stdout",
          "output_type": "stream",
          "text": [
            "Exercise tidak tersedia\n"
          ]
        }
      ],
      "source": [
        "calories = total_calories_burned(30, \"berlari\", \"berenang\")\n",
        "print(calories)  # Output: 660 (30 * 10 + 30 * 12)\n"
      ]
    },
    {
      "cell_type": "markdown",
      "metadata": {
        "id": "rvST1Pn9h6QX"
      },
      "source": [
        "#### 3. Lakukan Unit Testing pada kedua function yang telah dibuat.\n",
        "\n",
        "  ***Notes:***\n",
        "  \n",
        "  Pengujian Unit testing dapat dilakukan pada cell .ipynb dengan cara:\n",
        "- Cukup buat cell baru dan tulis code kerangka unit test di cell tersebut dan jalankan langsung di cell tanpa menggunakan if __name__()=='__main__'.\n",
        "\n",
        "- Sebagai pengganti idiom ini:\n",
        "```\n",
        "`if __name__=='__main__'`:\n",
        "   unittest.main()\n",
        "```\n",
        "dapat menggunakan:\n",
        "```\n",
        "unittest.main(argv=[''], exit=False)\n",
        "```"
      ]
    },
    {
      "cell_type": "code",
      "execution_count": null,
      "metadata": {
        "colab": {
          "base_uri": "https://localhost:8080/"
        },
        "id": "-uZD75JH31-Y",
        "outputId": "e3a63219-efe4-49dc-c970-777994a79abb"
      },
      "outputs": [],
      "source": []
    },
    {
      "cell_type": "code",
      "execution_count": 5,
      "metadata": {
        "colab": {
          "base_uri": "https://localhost:8080/"
        },
        "id": "BKrktb4U-IN6",
        "outputId": "bab2b350-5fc5-45f4-84fe-d929cb570e4b"
      },
      "outputs": [
        {
          "name": "stderr",
          "output_type": "stream",
          "text": [
            "test_calories_burned (__main__.Test.test_calories_burned) ... ok\n",
            "test_total_calories_burned (__main__.Test.test_total_calories_burned) ... ok\n",
            "\n",
            "----------------------------------------------------------------------\n",
            "Ran 2 tests in 0.005s\n",
            "\n",
            "OK\n"
          ]
        },
        {
          "data": {
            "text/plain": [
              "<unittest.main.TestProgram at 0x1217c02ae40>"
            ]
          },
          "execution_count": 5,
          "metadata": {},
          "output_type": "execute_result"
        }
      ],
      "source": [
        "import unittest\n",
        "\n",
        "class Test(unittest.TestCase):\n",
        "  def test_calories_burned(self):\n",
        "    result = calories_burned(60,'bersepeda')\n",
        "    self.assertEqual(result, 480)\n",
        "\n",
        "  def test_total_calories_burned(self):\n",
        "    result = total_calories_burned(30, \"berlari\", \"berenang\")\n",
        "    self.assertEqual(result, 660)\n",
        "\n",
        "unittest.main(argv=[''],verbosity=2, exit=False)"
      ]
    },
    {
      "cell_type": "code",
      "execution_count": null,
      "metadata": {
        "id": "jJwmuUx1A62a"
      },
      "outputs": [],
      "source": []
    }
  ],
  "metadata": {
    "colab": {
      "provenance": []
    },
    "kernelspec": {
      "display_name": "Python 3",
      "name": "python3"
    },
    "language_info": {
      "codemirror_mode": {
        "name": "ipython",
        "version": 3
      },
      "file_extension": ".py",
      "mimetype": "text/x-python",
      "name": "python",
      "nbconvert_exporter": "python",
      "pygments_lexer": "ipython3",
      "version": "3.12.4"
    }
  },
  "nbformat": 4,
  "nbformat_minor": 0
}
