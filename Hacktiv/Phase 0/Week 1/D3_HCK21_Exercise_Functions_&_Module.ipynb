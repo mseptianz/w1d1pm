{
  "cells": [
    {
      "cell_type": "markdown",
      "metadata": {
        "id": "L3KnF6F_IOwh"
      },
      "source": [
        "# Exercise - P0W1D3PM : Functions & Modules"
      ]
    },
    {
      "cell_type": "markdown",
      "metadata": {
        "id": "AgvBtWH2sWDT"
      },
      "source": [
        "---\n",
        "## A. Section 1 : Sintaks Dasar"
      ]
    },
    {
      "cell_type": "markdown",
      "metadata": {
        "id": "E78AeNtUsZYt"
      },
      "source": [
        "**NOMOR 1**\n",
        "\n",
        "Buatlah sebuah function untuk menampilkan pesan :\n",
        "```\n",
        "Halo.\n",
        "Selamat datang di Hacktiv8.\n",
        "Selamat mempelajari materi mengenai Data Science.\n",
        "```"
      ]
    },
    {
      "cell_type": "code",
      "execution_count": null,
      "metadata": {
        "colab": {
          "base_uri": "https://localhost:8080/"
        },
        "id": "Rv9sH6uB6v06",
        "outputId": "a62f829c-5702-4dc7-8c54-f5d0c5e5fc25"
      },
      "outputs": [
        {
          "name": "stdout",
          "output_type": "stream",
          "text": [
            "Halo.\n",
            "Selamat datang di Hacktiv8.\n",
            "Selamat mempelajari materi mengenai Data Science.\n"
          ]
        }
      ],
      "source": [
        "# Tanpa function\n",
        "\n",
        "print('Halo.')\n",
        "print('Selamat datang di Hacktiv8.')\n",
        "print('Selamat mempelajari materi mengenai Data Science.')"
      ]
    },
    {
      "cell_type": "code",
      "execution_count": null,
      "metadata": {
        "id": "wuKqvmpc69ye"
      },
      "outputs": [],
      "source": [
        "# Dengan function\n",
        "\n",
        "# Membuat function `greetings`\n",
        "def greetings():\n",
        "  print('Halo.')\n",
        "  print('Selamat datang di Hacktiv8.')\n",
        "  print('Selamat mempelajari materi mengenai Data Science.')"
      ]
    },
    {
      "cell_type": "code",
      "execution_count": null,
      "metadata": {
        "colab": {
          "base_uri": "https://localhost:8080/"
        },
        "id": "W1oMS8QcweqV",
        "outputId": "01ac5b28-3852-4c46-9d34-73bed4b1a086"
      },
      "outputs": [
        {
          "name": "stdout",
          "output_type": "stream",
          "text": [
            "Halo.\n",
            "Selamat datang di Hacktiv8.\n",
            "Selamat mempelajari materi mengenai Data Science.\n"
          ]
        }
      ],
      "source": [
        "# Pemanggilan function\n",
        "\n",
        "# Tulis nama functionnya berikut ()\n",
        "greetings()"
      ]
    },
    {
      "cell_type": "code",
      "execution_count": null,
      "metadata": {
        "colab": {
          "base_uri": "https://localhost:8080/"
        },
        "id": "9RjKA475wxEe",
        "outputId": "4bd38181-c9e5-4303-af0d-c5f76ee0e1fe"
      },
      "outputs": [
        {
          "name": "stdout",
          "output_type": "stream",
          "text": [
            "Halo.\n",
            "Selamat datang di Hacktiv8.\n",
            "Selamat mempelajari materi mengenai Data Science.\n"
          ]
        }
      ],
      "source": [
        "greetings()"
      ]
    },
    {
      "cell_type": "markdown",
      "metadata": {
        "id": "KD9SBZu6IWat"
      },
      "source": [
        "---\n",
        "## B. Section 2 : Required/Keyword Argument"
      ]
    },
    {
      "cell_type": "markdown",
      "metadata": {
        "id": "a-eVzSH6s-8W"
      },
      "source": [
        "**NOMOR 2**\n",
        "\n",
        "Buatlah sebuah function untuk menampilkan ucapan selamat datang beserta nama user.\n",
        "  * Input : `nama` | Nama user |  str\n",
        "  * Output : Teks yang bertuliskan `Halo. Selamat datang <nama>`.\n",
        "\n",
        "| Input | Output |\n",
        "| - | - |\n",
        "| nama = bono | Halo. Selamat datang bono. |\n",
        "| nama = Lolo | Halo. Selamat datang Lolo. |\n",
        "| nama = BRYAN | Halo. Selamat datang BRYAN. |"
      ]
    },
    {
      "cell_type": "code",
      "execution_count": null,
      "metadata": {
        "colab": {
          "base_uri": "https://localhost:8080/"
        },
        "id": "Mawajjls8lvY",
        "outputId": "4264da69-e490-4fb6-ec72-5d99df5ac75c"
      },
      "outputs": [
        {
          "name": "stdout",
          "output_type": "stream",
          "text": [
            "Halo. Selamat datang bono\n",
            "Halo. Selamat datang Lolo\n",
            "Halo. Selamat datang BRYAN\n"
          ]
        }
      ],
      "source": [
        "# Membuat function `ucapan`\n",
        "def ucapan(nama):\n",
        "  \"\"\"\n",
        "  Fungsi ini digunakan untuk menampilkan ucapan selamat datang.\n",
        "\n",
        "  Argumen:\n",
        "  nama = nama yang ingin dipanggil dan ditulis dalam bentuk string\n",
        "\n",
        "  Contoh penggunaan:\n",
        "  ucapan('bono')\n",
        "\n",
        "  Output:\n",
        "  Halo. Selamat datang bono.\n",
        "  \"\"\"\n",
        "  # print(\"Halo. Selamat datang\", nama)\n",
        "  # print(f\"Halo. Selamat datang {nama}\")\n",
        "  print(\"Halo. Selamat datang {}\".format(nama))\n",
        "\n",
        "# Memanggil function\n",
        "ucapan(\"bono\")\n",
        "ucapan(\"Lolo\")\n",
        "ucapan(\"BRYAN\")"
      ]
    },
    {
      "cell_type": "code",
      "execution_count": null,
      "metadata": {
        "colab": {
          "base_uri": "https://localhost:8080/",
          "height": 180
        },
        "id": "mUenG4iZ9HCf",
        "outputId": "b4583cb4-44e4-473f-d720-db4082c6d12a"
      },
      "outputs": [
        {
          "ename": "TypeError",
          "evalue": "ucapan() missing 1 required positional argument: 'nama'",
          "output_type": "error",
          "traceback": [
            "\u001b[0;31m---------------------------------------------------------------------------\u001b[0m",
            "\u001b[0;31mTypeError\u001b[0m                                 Traceback (most recent call last)",
            "\u001b[0;32m<ipython-input-6-58c44352edb1>\u001b[0m in \u001b[0;36m<cell line: 4>\u001b[0;34m()\u001b[0m\n\u001b[1;32m      2\u001b[0m \u001b[0;34m\u001b[0m\u001b[0m\n\u001b[1;32m      3\u001b[0m \u001b[0;31m# Tulis nama function tanpa argumen\u001b[0m\u001b[0;34m\u001b[0m\u001b[0;34m\u001b[0m\u001b[0m\n\u001b[0;32m----> 4\u001b[0;31m \u001b[0mucapan\u001b[0m\u001b[0;34m(\u001b[0m\u001b[0;34m)\u001b[0m\u001b[0;34m\u001b[0m\u001b[0;34m\u001b[0m\u001b[0m\n\u001b[0m",
            "\u001b[0;31mTypeError\u001b[0m: ucapan() missing 1 required positional argument: 'nama'"
          ]
        }
      ],
      "source": [
        "# Pemanggilan tanpa ada argument -> Program akan error\n",
        "\n",
        "# Tulis nama function tanpa argumen\n",
        "ucapan()"
      ]
    },
    {
      "cell_type": "code",
      "execution_count": null,
      "metadata": {
        "colab": {
          "base_uri": "https://localhost:8080/",
          "height": 71
        },
        "id": "XtEuRlOpyuUU",
        "outputId": "ce016dab-99e6-4e27-d119-b9eeef55bd02"
      },
      "outputs": [
        {
          "data": {
            "application/vnd.google.colaboratory.intrinsic+json": {
              "type": "string"
            },
            "text/plain": [
              "\"\\n  Fungsi ini digunakan untuk menampilkan ucapan selamat datang.\\n\\n  Argumen:\\n  nama = nama yang ingin dipanggil dan ditulis dalam bentuk string\\n\\n  Contoh penggunaan:\\n  ucapan('bono')\\n\\n  Output:\\n  Halo. Selamat datang bono.\\n  \""
            ]
          },
          "execution_count": 8,
          "metadata": {},
          "output_type": "execute_result"
        }
      ],
      "source": [
        "# Menampilkan pesan docstrong function\n",
        "ucapan.__doc__"
      ]
    },
    {
      "cell_type": "markdown",
      "metadata": {
        "id": "SABgqKWrp27J"
      },
      "source": [
        "**NOMOR 3**\n",
        "\n",
        "Buatlah sebuah function untuk menampilkan tanda plus (`+`) sebanyak\n",
        "`n`.\n",
        "  * Input : `n` | Jumlah tanda plus (`+`) yang diinginkan | int\n",
        "  * Output : Jumlah tanda plus yang ditampilkan\n",
        "\n",
        "| Input | Output |\n",
        "| - | - |\n",
        "| n = 1 | + |\n",
        "| n = 3 | + <br /> + <br /> + |\n",
        "| n = 5 | + <br /> + <br /> + <br /> + <br /> + |\n",
        "| n = 0 | Tampilkan pesan `Input salah` |\n",
        "| n = -1 | Tampilkan pesan `Input salah` |\n",
        "\n",
        "*Input user haruslah bernilai positif. Jika input user <= 0, maka tampilkan pesan `Input salah`*\n"
      ]
    },
    {
      "cell_type": "code",
      "execution_count": null,
      "metadata": {
        "colab": {
          "base_uri": "https://localhost:8080/"
        },
        "id": "BFBp1EXXz-qw",
        "outputId": "a21945bc-21f6-4303-8098-d956e65d9116"
      },
      "outputs": [
        {
          "name": "stdout",
          "output_type": "stream",
          "text": [
            "+\n",
            "+\n",
            "+\n",
            "+\n",
            "+\n",
            "+\n",
            "+\n"
          ]
        }
      ],
      "source": [
        "for i in range(7):\n",
        "  print(\"+\")"
      ]
    },
    {
      "cell_type": "code",
      "execution_count": null,
      "metadata": {
        "colab": {
          "base_uri": "https://localhost:8080/"
        },
        "id": "OjHRkMdc9wFR",
        "outputId": "5de7d8ad-2250-418d-d094-95bbfa21b3c0"
      },
      "outputs": [
        {
          "name": "stdout",
          "output_type": "stream",
          "text": [
            "+\n",
            "+\n",
            "+\n"
          ]
        }
      ],
      "source": [
        "# Membuat function `plusplus`\n",
        "def plusplus(n):\n",
        "  \"\"\"\n",
        "  Fungsi ini digunakan untuk menampilkan tanda plus (+) sebanyak n.\n",
        "\n",
        "  Argumen:\n",
        "  n = jumlah tanda plus yang diinginkan\n",
        "  \"\"\"\n",
        "  if n <= 0:\n",
        "    print(\"Input salah\")\n",
        "  else:\n",
        "    for i in range(n):\n",
        "      print(\"+\")\n",
        "\n",
        "# Pemanggilan jika n=3\n",
        "plusplus(3)"
      ]
    },
    {
      "cell_type": "code",
      "execution_count": null,
      "metadata": {
        "colab": {
          "base_uri": "https://localhost:8080/"
        },
        "id": "CGLXocID-EsJ",
        "outputId": "e917a333-c3e6-4261-b951-805eff9fdc92"
      },
      "outputs": [
        {
          "name": "stdout",
          "output_type": "stream",
          "text": [
            "Input salah\n"
          ]
        }
      ],
      "source": [
        "# Pemanggilan jika n=-1\n",
        "plusplus(-1)"
      ]
    },
    {
      "cell_type": "code",
      "execution_count": null,
      "metadata": {
        "colab": {
          "base_uri": "https://localhost:8080/",
          "height": 180
        },
        "id": "Mx27Ecr--KkU",
        "outputId": "346111d3-7211-495f-c012-a65011d4f340"
      },
      "outputs": [
        {
          "ename": "TypeError",
          "evalue": "plusplus() missing 1 required positional argument: 'n'",
          "output_type": "error",
          "traceback": [
            "\u001b[0;31m---------------------------------------------------------------------------\u001b[0m",
            "\u001b[0;31mTypeError\u001b[0m                                 Traceback (most recent call last)",
            "\u001b[0;32m<ipython-input-17-c1f606932eb2>\u001b[0m in \u001b[0;36m<cell line: 4>\u001b[0;34m()\u001b[0m\n\u001b[1;32m      2\u001b[0m \u001b[0;34m\u001b[0m\u001b[0m\n\u001b[1;32m      3\u001b[0m \u001b[0;31m# Tulis nama function tanpa argumen\u001b[0m\u001b[0;34m\u001b[0m\u001b[0;34m\u001b[0m\u001b[0m\n\u001b[0;32m----> 4\u001b[0;31m \u001b[0mplusplus\u001b[0m\u001b[0;34m(\u001b[0m\u001b[0;34m)\u001b[0m\u001b[0;34m\u001b[0m\u001b[0;34m\u001b[0m\u001b[0m\n\u001b[0m",
            "\u001b[0;31mTypeError\u001b[0m: plusplus() missing 1 required positional argument: 'n'"
          ]
        }
      ],
      "source": [
        "# Pemanggilan tanpa adanya argument\n",
        "\n",
        "# Tulis nama function tanpa argumen\n",
        "plusplus()"
      ]
    },
    {
      "cell_type": "code",
      "execution_count": null,
      "metadata": {
        "colab": {
          "base_uri": "https://localhost:8080/",
          "height": 53
        },
        "id": "mYe6bhVF02oj",
        "outputId": "030d8b91-aaa3-4bb6-a21e-2a3d7efe8409"
      },
      "outputs": [
        {
          "data": {
            "application/vnd.google.colaboratory.intrinsic+json": {
              "type": "string"
            },
            "text/plain": [
              "'\\n  Fungsi ini digunakan untuk menampilkan tanda plus (+) sebanyak n.\\n\\n  Argumen:\\n  n = jumlah tanda plus yang diinginkan\\n  '"
            ]
          },
          "execution_count": 18,
          "metadata": {},
          "output_type": "execute_result"
        }
      ],
      "source": [
        "plusplus.__doc__"
      ]
    },
    {
      "cell_type": "markdown",
      "metadata": {
        "id": "jz00PX1Sp6_S"
      },
      "source": [
        "---\n",
        "## C. Section 3 : Default Argument"
      ]
    },
    {
      "cell_type": "markdown",
      "metadata": {
        "id": "3wEoWefTIg9a"
      },
      "source": [
        "**NOMOR 4**\n",
        "\n",
        "Buatlah sebuah function untuk menampilkan `nama` dan `negara`. Jika tidak ada value pada parameter `negara`, isi dengan `Indonesia`.\n",
        "  * Input : `nama` | str\n",
        "  * Input : `negara` | str\n",
        "\n",
        "| No | Input | Output |\n",
        "| - | - | - |\n",
        "| 1 | nama = Frank <br /> <br /> negara = USA| \"Halo Frank dari USA\" |\n",
        "| 2 | nama = Smith <br /> <br /> negara = Jerman| \"Halo Smith dari Jerman\" |\n",
        "| 3 | nama = Anton | \"Halo Anton dari Indonesia\" |\n",
        "| 4 | negara = Singapura | *--Program Error--* |"
      ]
    },
    {
      "cell_type": "code",
      "execution_count": null,
      "metadata": {
        "id": "OUDsuc2C-qb-"
      },
      "outputs": [],
      "source": [
        "# Membuat function `halo`\n",
        "def halo(nama, negara=\"Indonesia\"):\n",
        "  \"\"\"\n",
        "  Fungsi ini digunakan untuk menampilkan nama dan negara.\n",
        "\n",
        "  Argumen:\n",
        "  nama = nama yang ingin ditampilkan\n",
        "  negara = negara yang ingin ditampilkan\n",
        "  \"\"\"\n",
        "  print(f\"Halo {nama} dari {negara}\")"
      ]
    },
    {
      "cell_type": "code",
      "execution_count": null,
      "metadata": {
        "colab": {
          "base_uri": "https://localhost:8080/"
        },
        "id": "lmGJDFNl12jD",
        "outputId": "0aad8a9e-9a01-4eda-ba65-a2e4ed79cca8"
      },
      "outputs": [
        {
          "name": "stdout",
          "output_type": "stream",
          "text": [
            "Halo Frank dari USA\n"
          ]
        }
      ],
      "source": [
        "halo(negara=\"USA\", nama=\"Frank\")"
      ]
    },
    {
      "cell_type": "code",
      "execution_count": null,
      "metadata": {
        "colab": {
          "base_uri": "https://localhost:8080/"
        },
        "id": "B6CTuThS_9GV",
        "outputId": "a1e65a92-9d86-4b93-a62d-99aa9edf5bc2"
      },
      "outputs": [
        {
          "name": "stdout",
          "output_type": "stream",
          "text": [
            "Halo Frank dari USA\n",
            "Halo USA dari Frank\n"
          ]
        }
      ],
      "source": [
        "# Coba pemanggilan dengan urutan argumen yang benar\n",
        "halo(\"Frank\", \"USA\")\n",
        "# Urutan salah\n",
        "halo(\"USA\", \"Frank\")"
      ]
    },
    {
      "cell_type": "code",
      "execution_count": null,
      "metadata": {
        "colab": {
          "base_uri": "https://localhost:8080/",
          "height": 180
        },
        "id": "xe2PX3KcAj5r",
        "outputId": "5936e227-f919-4071-b43d-77045e8c9270"
      },
      "outputs": [
        {
          "ename": "TypeError",
          "evalue": "halo() missing 1 required positional argument: 'nama'",
          "output_type": "error",
          "traceback": [
            "\u001b[0;31m---------------------------------------------------------------------------\u001b[0m",
            "\u001b[0;31mTypeError\u001b[0m                                 Traceback (most recent call last)",
            "\u001b[0;32m<ipython-input-31-d53b89c6042a>\u001b[0m in \u001b[0;36m<cell line: 3>\u001b[0;34m()\u001b[0m\n\u001b[1;32m      1\u001b[0m \u001b[0;31m# Pemanggilan tanpa argument `nama` -> Program error\u001b[0m\u001b[0;34m\u001b[0m\u001b[0;34m\u001b[0m\u001b[0m\n\u001b[1;32m      2\u001b[0m \u001b[0;34m\u001b[0m\u001b[0m\n\u001b[0;32m----> 3\u001b[0;31m \u001b[0mhalo\u001b[0m\u001b[0;34m(\u001b[0m\u001b[0mnegara\u001b[0m\u001b[0;34m=\u001b[0m\u001b[0;34m\"Jerman\"\u001b[0m\u001b[0;34m)\u001b[0m\u001b[0;34m\u001b[0m\u001b[0;34m\u001b[0m\u001b[0m\n\u001b[0m",
            "\u001b[0;31mTypeError\u001b[0m: halo() missing 1 required positional argument: 'nama'"
          ]
        }
      ],
      "source": [
        "# Pemanggilan tanpa argument `nama` -> Program error\n",
        "\n",
        "halo(negara=\"Jerman\")"
      ]
    },
    {
      "cell_type": "code",
      "execution_count": null,
      "metadata": {
        "colab": {
          "base_uri": "https://localhost:8080/"
        },
        "id": "kwza3C4b3FXo",
        "outputId": "eb983195-2d8f-44bf-e215-f13ed2d301b8"
      },
      "outputs": [
        {
          "name": "stdout",
          "output_type": "stream",
          "text": [
            "Halo Anton dari Indonesia\n"
          ]
        }
      ],
      "source": [
        "# Pemanggilan tanpa argument `negara` -> Indonesia\n",
        "\n",
        "halo(nama=\"Anton\")"
      ]
    },
    {
      "cell_type": "markdown",
      "metadata": {
        "id": "QyZsdFCAwaMP"
      },
      "source": [
        "**NOMOR 4 (Return Statement)**\n",
        "\n",
        "Buatlah sebuah function untuk menampilkan panggilan nama berdasarkan gendernya.\n",
        "  * Input : `gender` | str |\n",
        "    + `gender` yang dipakai hanya `pria` atau `wanita`\n",
        "    + Jika `gender=pria` maka tambahkan kata `Bapak` sebelum `nama`\n",
        "    + Jika `gender=wanita` maka tambahkan kata `Ibu` sebelum `nama`\n",
        "  * Input : `nama` | str | Default : `user`\n",
        "\n",
        "*Anda dilarang menggunakan statement `print` didalam function. Gunakan statement `print` diluar function.*\n",
        "\n",
        "| No | Input | Output |\n",
        "| - | - | - |\n",
        "| 1 | gender = pria <br /> <br /> nama = danu | \"Bapak danu\" |\n",
        "| 2 | gender = wanita <br /> <br /> nama = WIDYA | \"Ibu WIDYA\" |\n",
        "| 3 | gender = pria | \"Bapak user\" |\n",
        "| 4 | nama = bambang | *--Program Error--* |\n"
      ]
    },
    {
      "cell_type": "code",
      "execution_count": null,
      "metadata": {
        "id": "5yks6pDnkKor"
      },
      "outputs": [],
      "source": [
        "# Bikin function `panggilan_gender` - Pake PRINT\n",
        "def panggilan_gender(gender, nama=\"user\"):\n",
        "  \"\"\"\n",
        "  Fungsi ini digunakan untuk menampilkan panggilan nama berdasarkan gendernya.\n",
        "\n",
        "  Argumen:\n",
        "  gender = gender yang ingin ditampilkan\n",
        "  nama = nama yang ingin ditampilkan\n",
        "  \"\"\"\n",
        "  if gender == \"pria\":\n",
        "    print(f\"Bapak {nama}\")\n",
        "  elif gender == \"wanita\":\n",
        "    print(f\"Ibu {nama}\")\n",
        "  else:\n",
        "    print(\"Tidak maaf, gender tidak valid\")"
      ]
    },
    {
      "cell_type": "code",
      "execution_count": null,
      "metadata": {
        "colab": {
          "base_uri": "https://localhost:8080/"
        },
        "id": "IpGo9eDABGF9",
        "outputId": "8856e542-c0ac-4fa0-9d78-3aed8f1d9481"
      },
      "outputs": [
        {
          "name": "stdout",
          "output_type": "stream",
          "text": [
            "Bapak danu\n"
          ]
        }
      ],
      "source": [
        "# Coba memanggil function\n",
        "panggilan_gender(\"pria\", \"danu\")"
      ]
    },
    {
      "cell_type": "code",
      "execution_count": null,
      "metadata": {
        "id": "Pc9dgzOb5QQ8"
      },
      "outputs": [],
      "source": [
        "# Bikin function `panggilan_gender` - Pake RETURN\n",
        "def panggilan_gender(gender, nama=\"user\"):\n",
        "  \"\"\"\n",
        "  Fungsi ini digunakan untuk menampilkan panggilan nama berdasarkan gendernya.\n",
        "\n",
        "  Argumen:\n",
        "  gender = gender yang ingin ditampilkan\n",
        "  nama = nama yang ingin ditampilkan\n",
        "  \"\"\"\n",
        "  if gender == \"pria\":\n",
        "    panggilan = f\"Bapak {nama}\"\n",
        "  elif gender == \"wanita\":\n",
        "    panggilan = f\"Ibu {nama}\"\n",
        "  else:\n",
        "    panggilan = \"Tidak maaf, gender tidak valid\"\n",
        "\n",
        "  return panggilan"
      ]
    },
    {
      "cell_type": "code",
      "execution_count": null,
      "metadata": {
        "colab": {
          "base_uri": "https://localhost:8080/"
        },
        "id": "f63EiwypkKos",
        "outputId": "4247da7f-da27-4cde-e449-069a81d9f743"
      },
      "outputs": [
        {
          "name": "stdout",
          "output_type": "stream",
          "text": [
            "Ibu widya\n"
          ]
        }
      ],
      "source": [
        "# Dengan disimpan dalam suatu instance/variabel\n",
        "widya = panggilan_gender(\"wanita\", \"widya\")\n",
        "\n",
        "print(widya)"
      ]
    },
    {
      "cell_type": "code",
      "execution_count": null,
      "metadata": {
        "colab": {
          "base_uri": "https://localhost:8080/",
          "height": 35
        },
        "id": "XCUiUImikKos",
        "outputId": "72c010c6-eeb4-429d-d25f-c2626436b166"
      },
      "outputs": [
        {
          "data": {
            "application/vnd.google.colaboratory.intrinsic+json": {
              "type": "string"
            },
            "text/plain": [
              "'Bapak user'"
            ]
          },
          "execution_count": 39,
          "metadata": {},
          "output_type": "execute_result"
        }
      ],
      "source": [
        "# Tanpa instance/variabel\n",
        "panggilan_gender(gender=\"pria\")"
      ]
    },
    {
      "cell_type": "code",
      "execution_count": null,
      "metadata": {
        "colab": {
          "base_uri": "https://localhost:8080/",
          "height": 162
        },
        "id": "5tRKJQd_DXmX",
        "outputId": "427dbc6c-d2ce-4a3b-9cd7-2775cab63619"
      },
      "outputs": [
        {
          "ename": "TypeError",
          "evalue": "panggilan_gender() missing 1 required positional argument: 'gender'",
          "output_type": "error",
          "traceback": [
            "\u001b[0;31m---------------------------------------------------------------------------\u001b[0m",
            "\u001b[0;31mTypeError\u001b[0m                                 Traceback (most recent call last)",
            "\u001b[0;32m<ipython-input-40-333f721a058f>\u001b[0m in \u001b[0;36m<cell line: 2>\u001b[0;34m()\u001b[0m\n\u001b[1;32m      1\u001b[0m \u001b[0;31m# Pemanggilan tanpa `gender` -> Program error\u001b[0m\u001b[0;34m\u001b[0m\u001b[0;34m\u001b[0m\u001b[0m\n\u001b[0;32m----> 2\u001b[0;31m \u001b[0mpanggilan_gender\u001b[0m\u001b[0;34m(\u001b[0m\u001b[0mnama\u001b[0m\u001b[0;34m=\u001b[0m\u001b[0;34m\"Sumbul\"\u001b[0m\u001b[0;34m)\u001b[0m\u001b[0;34m\u001b[0m\u001b[0;34m\u001b[0m\u001b[0m\n\u001b[0m",
            "\u001b[0;31mTypeError\u001b[0m: panggilan_gender() missing 1 required positional argument: 'gender'"
          ]
        }
      ],
      "source": [
        "# Pemanggilan tanpa `gender` -> Program error\n",
        "panggilan_gender(nama=\"Sumbul\")"
      ]
    },
    {
      "cell_type": "code",
      "execution_count": null,
      "metadata": {
        "colab": {
          "base_uri": "https://localhost:8080/",
          "height": 35
        },
        "id": "10haY-wF6XBH",
        "outputId": "3eb99647-8ba5-429c-ff02-7ae531ac96f1"
      },
      "outputs": [
        {
          "data": {
            "application/vnd.google.colaboratory.intrinsic+json": {
              "type": "string"
            },
            "text/plain": [
              "'Tidak maaf, gender tidak valid'"
            ]
          },
          "execution_count": 41,
          "metadata": {},
          "output_type": "execute_result"
        }
      ],
      "source": [
        "# Pemanggilan `gender` salah\n",
        "panggilan_gender(gender=\"Biner\", nama=\"Sumbul\")"
      ]
    },
    {
      "cell_type": "markdown",
      "metadata": {
        "id": "318TQDqvcHKR"
      },
      "source": [
        "**NOMOR 5**\n",
        "\n",
        "Buatlah sebuah function untuk me-return luas dari dua angka yang dimasukkan berdasarkan jenis bidangnya.\n",
        "  * Jika hanya 1 angka yang dimasukkan, maka diasumsikan angka tersebut akan digunakan untuk panjang-dan-lebar atau alas-dan-tinggi.\n",
        "  * Input : `mode` : jenis bidang (segitiga/persegi) | str\n",
        "    - `mode = segitiga`\n",
        "    - `mode = persegi`\n",
        "  * Input : `bilangan_1` : bilangan ke-1 | int\n",
        "  * Input : `bilangan_2` : bilangan ke-2 | int\n",
        "  * Jika tidak ada bilangan yang dimasukkan, maka tampilkan pesan **\"Input harus ada angka\"**.\n",
        "  * Jika bilangan_1 tidak dimasukkan dan hanya ada bilangan_2, maka tampilkan pesan **\"Input harus ada bilangan_1\"**.\n",
        "\n",
        "  > *Rumus luas persegi = bilangan_1 (panjang) * bilangan_2 (lebar)*\n",
        "  >\n",
        "  > *Rumus luas segitiga = bilangan_1 (alas) * bilangan_2 (tinggi) / 2*\n",
        "\n",
        "---\n",
        "Asumsi :\n",
        "* Angka yang dimasukkan maksimal 2 angka.\n",
        "* Angka yang dimasukkan hanyalah angka yang lebih besar dari 0.\n",
        "\n",
        "*Hint : Gunakan konsep bahwa sisi bidang tidak mungkin bernilai 0.*\n",
        "\n",
        "\n",
        "| No | Input | Output |\n",
        "| - | - | - |\n",
        "| 1 | mode = persegi, <br /> <br /> bilangan_1 = 10, <br /> <br /> bilangan_2 = 20 | 200 |\n",
        "| 2 | mode = segitiga, <br /> <br /> bilangan_1 = 10, <br /> <br /> bilangan_2 = 20 | 100 |\n",
        "| 3 | mode = persegi | \"Input kurang angka\" |\n",
        "| 4 | mode = persegi, <br /> <br /> bilangan_1 = 8 | 64 |\n",
        "| 5 | mode = persegi, <br /> <br /> bilangan_2 = 8 | \"Input harus ada bilangan_1\" |\n",
        "| 6 | bilangan_1 = 10, <br /> <br /> bilangan_2 = 20 | *-Program Error-* |"
      ]
    },
    {
      "cell_type": "code",
      "execution_count": null,
      "metadata": {
        "id": "7jvqqjNLEKjb"
      },
      "outputs": [],
      "source": [
        "# Membuat function `hitung_luas`\n",
        "def hitung_luas(mode, bilangan_1=None, bilangan_2=None):\n",
        "\n",
        "  # Jika bilangan_1 dan bilangan_2 tidak ada\n",
        "  if bilangan_1 == None and bilangan_2 == None:\n",
        "    print('Input harus ada angka')\n",
        "\n",
        "  # Jika bilangan_1 tidak ada\n",
        "  elif bilangan_1 == None:\n",
        "    print('Input harus ada bilangan_1')\n",
        "\n",
        "  # Jika bilangan_1 ada\n",
        "  else:\n",
        "\n",
        "      # Jika hanya bilangan_1 yang bernilai\n",
        "      if bilangan_2 == None:\n",
        "        # bilangan_2 di-assign menggunakan nilai bilangan_1\n",
        "        bilangan_2 = bilangan_1\n",
        "\n",
        "      # Memilih mode\n",
        "      if mode == 'persegi':\n",
        "        print(bilangan_1 * bilangan_2)\n",
        "      elif mode == 'segitiga':\n",
        "        print(bilangan_1 * bilangan_2 / 2)\n",
        "      # Jika mode diluar pilihan\n",
        "      else:\n",
        "        print('pilih mode, bos')"
      ]
    },
    {
      "cell_type": "code",
      "execution_count": null,
      "metadata": {
        "colab": {
          "base_uri": "https://localhost:8080/"
        },
        "id": "mBj2KIpokKot",
        "outputId": "62a781f7-c008-49b0-9fc8-4203665e44bd"
      },
      "outputs": [
        {
          "name": "stdout",
          "output_type": "stream",
          "text": [
            "100.0\n"
          ]
        }
      ],
      "source": [
        "# Code in here\n",
        "hitung_luas(mode=\"segitiga\", bilangan_1=10, bilangan_2=20)"
      ]
    },
    {
      "cell_type": "code",
      "execution_count": null,
      "metadata": {
        "colab": {
          "base_uri": "https://localhost:8080/"
        },
        "id": "GO5YiNGU_vDF",
        "outputId": "2f98dea4-e972-4d00-d661-56f7784cadf5"
      },
      "outputs": [
        {
          "name": "stdout",
          "output_type": "stream",
          "text": [
            "Input harus ada angka\n"
          ]
        }
      ],
      "source": [
        "# Cuma mode\n",
        "hitung_luas(mode=\"persegi\")"
      ]
    },
    {
      "cell_type": "code",
      "execution_count": null,
      "metadata": {
        "colab": {
          "base_uri": "https://localhost:8080/"
        },
        "id": "DX8xp-EV_81w",
        "outputId": "c774ee31-ee56-4dc9-c23b-7ccfed39a2ca"
      },
      "outputs": [
        {
          "name": "stdout",
          "output_type": "stream",
          "text": [
            "64\n"
          ]
        }
      ],
      "source": [
        "# Bilangan_2 ga ada\n",
        "hitung_luas(mode=\"persegi\", bilangan_1=8)"
      ]
    },
    {
      "cell_type": "code",
      "execution_count": null,
      "metadata": {
        "colab": {
          "base_uri": "https://localhost:8080/"
        },
        "id": "kjkTOQP0AHpn",
        "outputId": "1cab3015-c41c-4641-d037-b436735a1ae8"
      },
      "outputs": [
        {
          "name": "stdout",
          "output_type": "stream",
          "text": [
            "Input harus ada bilangan_1\n"
          ]
        }
      ],
      "source": [
        "# Bilangan_1 ga ada\n",
        "hitung_luas(mode=\"persegi\", bilangan_2=8)"
      ]
    },
    {
      "cell_type": "code",
      "execution_count": null,
      "metadata": {
        "colab": {
          "base_uri": "https://localhost:8080/",
          "height": 162
        },
        "id": "cNDjOGZzF4N5",
        "outputId": "0e280f38-c684-40cd-ad63-eacb972783c4"
      },
      "outputs": [
        {
          "ename": "TypeError",
          "evalue": "hitung_luas() missing 1 required positional argument: 'mode'",
          "output_type": "error",
          "traceback": [
            "\u001b[0;31m---------------------------------------------------------------------------\u001b[0m",
            "\u001b[0;31mTypeError\u001b[0m                                 Traceback (most recent call last)",
            "\u001b[0;32m<ipython-input-48-c30c9fd7158e>\u001b[0m in \u001b[0;36m<cell line: 2>\u001b[0;34m()\u001b[0m\n\u001b[1;32m      1\u001b[0m \u001b[0;31m# Pemanggilan tanpa `mode` -> Program error\u001b[0m\u001b[0;34m\u001b[0m\u001b[0;34m\u001b[0m\u001b[0m\n\u001b[0;32m----> 2\u001b[0;31m \u001b[0mhitung_luas\u001b[0m\u001b[0;34m(\u001b[0m\u001b[0mbilangan_1\u001b[0m\u001b[0;34m=\u001b[0m\u001b[0;36m10\u001b[0m\u001b[0;34m,\u001b[0m \u001b[0mbilangan_2\u001b[0m\u001b[0;34m=\u001b[0m\u001b[0;36m20\u001b[0m\u001b[0;34m)\u001b[0m\u001b[0;34m\u001b[0m\u001b[0;34m\u001b[0m\u001b[0m\n\u001b[0m",
            "\u001b[0;31mTypeError\u001b[0m: hitung_luas() missing 1 required positional argument: 'mode'"
          ]
        }
      ],
      "source": [
        "# Pemanggilan tanpa `mode` -> Program error\n",
        "hitung_luas(bilangan_1=10, bilangan_2=20)"
      ]
    },
    {
      "cell_type": "markdown",
      "metadata": {
        "id": "382AEd81qiuI"
      },
      "source": [
        "---\n",
        "## D. Section 4 : Variable-Length Argument"
      ]
    },
    {
      "cell_type": "markdown",
      "metadata": {
        "id": "gy1BSwZQlhyd"
      },
      "source": [
        "**NOMOR 6 (* Statement)**\n",
        "\n",
        "Buatlah sebuah function untuk :\n",
        "  * Mereturn angka disuatu posisi berdasarkan bilangan pertama dari sebuah daftar angka-angka.\n",
        "  * Urutan posisi dimulai dari bilangan kedua.\n",
        "  * Jika bilangan pertama melebihi jumlah banyaknya daftar angka-angka, maka return **-1**.\n",
        "  * Input : daftar angka\n",
        "\n",
        "| No | Input | Output |\n",
        "| - | - | - |\n",
        "| 1 | (3, 10, 20, 30, 40) | 40 |\n",
        "| 2 | (0, -10, 10)| -10 |\n",
        "| 3 | (1, 2, 300, 10) | 300 |\n",
        "| 4 | (100, 200, 300, -400) | -1 |\n",
        "| 5 | (4, 200, 300, -400) | -1 |"
      ]
    },
    {
      "cell_type": "code",
      "execution_count": null,
      "metadata": {
        "colab": {
          "base_uri": "https://localhost:8080/"
        },
        "id": "AClP-JAXKDWj",
        "outputId": "de9e9b42-0dcd-4588-a658-8ef98a9e6b25"
      },
      "outputs": [
        {
          "name": "stdout",
          "output_type": "stream",
          "text": [
            "posisi: 3\n",
            "daftar_angka: [10, 20, 30, 40]\n",
            "Hasil slicing 40\n",
            "posisi: 0\n",
            "daftar_angka: [-10, 10]\n",
            "Hasil slicing -10\n",
            "posisi: 4\n",
            "daftar_angka: [200, 300, -400]\n",
            "-1\n"
          ]
        }
      ],
      "source": [
        "# Cara 1 - Tanpa *ARGS\n",
        "def posisi_angka(posisi, daftar_angka):\n",
        "  print(f\"posisi: {posisi}\")\n",
        "  print(f\"daftar_angka: {daftar_angka}\")\n",
        "\n",
        "  # Kondisi jika panjang data kurang dari posisi\n",
        "  if posisi > len(daftar_angka):\n",
        "    # Akan return -1\n",
        "    print(-1)\n",
        "  # Kondisi jika panjang data tidak kurang dari posisi\n",
        "  else:\n",
        "    # Akan return data pada posisi yang diinginkan (slicing)\n",
        "    print(f\"Hasil slicing {daftar_angka[posisi]}\")\n",
        "\n",
        "# Coba panggil function\n",
        "posisi_angka(3, [10, 20, 30, 40])\n",
        "posisi_angka(0, [-10, 10])\n",
        "posisi_angka(4, [200, 300, -400])"
      ]
    },
    {
      "cell_type": "code",
      "execution_count": null,
      "metadata": {
        "colab": {
          "base_uri": "https://localhost:8080/"
        },
        "id": "nNqrwdvHHGKy",
        "outputId": "e22d396f-96d6-4469-e911-93eaa4fde0bd"
      },
      "outputs": [
        {
          "name": "stdout",
          "output_type": "stream",
          "text": [
            "posisi: 3\n",
            "daftar_angka: (10, 20, 30, 40)\n",
            "Hasil slicing 40\n",
            "posisi: 0\n",
            "daftar_angka: (-10, 10)\n",
            "Hasil slicing -10\n",
            "posisi: 4\n",
            "daftar_angka: (200, 300, -400)\n",
            "-1\n"
          ]
        }
      ],
      "source": [
        "# Cara 2 - Menggunakan *ARGS\n",
        "def posisi_angka(posisi, *daftar_angka):\n",
        "  print(f\"posisi: {posisi}\")\n",
        "  print(f\"daftar_angka: {daftar_angka}\")\n",
        "\n",
        "  # Kondisi jika panjang data kurang dari posisi\n",
        "  if posisi > len(daftar_angka):\n",
        "    # Akan return -1\n",
        "    print(-1)\n",
        "  # Kondisi jika panjang data tidak kurang dari posisi\n",
        "  else:\n",
        "    # Akan return data pada posisi yang diinginkan (slicing)\n",
        "    print(f\"Hasil slicing {daftar_angka[posisi]}\")\n",
        "\n",
        "# Coba panggil function - beda pada cara pemanggilan\n",
        "posisi_angka(3, 10, 20, 30, 40)\n",
        "posisi_angka(0, -10, 10)\n",
        "posisi_angka(4, 200, 300, -400)"
      ]
    },
    {
      "cell_type": "markdown",
      "metadata": {
        "id": "1ZrIX3RTzgCH"
      },
      "source": [
        "**NOMOR 7 (Double Asteriks Statement)**\n",
        "\n",
        "Buatlah sebuah function untuk menampilkan nama siswa yang memiliki nilai paling besar\n",
        "  * Input : Beberapa nama_siswa beserta nilai_siswa\n",
        "\n",
        "\n",
        "| No | Input | Output |\n",
        "| - | - | - |\n",
        "| 1 | (anwar=90, budi=40, charlie=100) | 'charlie' |\n",
        "| 2 | (tom=30, rian=90, jim=60, lily=70, abby=40)| 'rian' |\n",
        "| 3 | (frank=100) | 'frank' |"
      ]
    },
    {
      "cell_type": "code",
      "execution_count": null,
      "metadata": {
        "id": "qAvTp-b9Knzr"
      },
      "outputs": [],
      "source": [
        "# Membuat function `cek_nilai`\n",
        "def cek_nilai(**daftar_siswa):\n",
        "  print('datar_siswa : ', daftar_siswa)\n",
        "\n",
        "  # Keys disimpan dalam variabel nama\n",
        "  daftar_nama = list(daftar_siswa.keys())\n",
        "  # Values disimpan dalam variabel nilai\n",
        "  daftar_nilai = list(daftar_siswa.values())\n",
        "\n",
        "  # Inisiasi siapa yang terbaik\n",
        "  terbaik_nama = ''\n",
        "  terbaik_nilai = 0\n",
        "\n",
        "\n",
        "  # Looping dari 0 sampai panjang data\n",
        "  for loop in range(0, len(daftar_nama)):\n",
        "    # Jika nilai siswa lebih besar\n",
        "    if daftar_nilai[loop] > terbaik_nilai:\n",
        "      # Nama dan nilainya akan dimasukkan\n",
        "      terbaik_nama = daftar_nama[loop]\n",
        "      terbaik_nilai = daftar_nilai[loop]\n",
        "\n",
        "  # Funtion return siapa yang terbaik dari hasil pengecekan satu-persatu\n",
        "  return terbaik_nama, terbaik_nilai"
      ]
    },
    {
      "cell_type": "code",
      "execution_count": null,
      "metadata": {
        "colab": {
          "base_uri": "https://localhost:8080/"
        },
        "id": "2eGWAtd4GmpU",
        "outputId": "5637f31d-ec07-4477-b555-f3cecaa3e342"
      },
      "outputs": [
        {
          "name": "stdout",
          "output_type": "stream",
          "text": [
            "datar_siswa :  {'anwar': 90, 'budi': 40, 'charlie': 100}\n",
            "Siswa dengan nilai terbaik adalah:\n",
            "Nama :  charlie\n",
            "Nilai :  100\n"
          ]
        }
      ],
      "source": [
        "# Penggunaan function\n",
        "best_nama, best_nilai = cek_nilai(anwar=90, budi=40, charlie=100)\n",
        "\n",
        "# Menunjukkan siapa yang terbaik\n",
        "print(\"Siswa dengan nilai terbaik adalah:\")\n",
        "print('Nama : ', best_nama)\n",
        "print('Nilai : ', best_nilai)"
      ]
    },
    {
      "cell_type": "code",
      "execution_count": null,
      "metadata": {
        "colab": {
          "base_uri": "https://localhost:8080/"
        },
        "id": "u915BBYZHEHa",
        "outputId": "f05c5224-3e15-4a1e-f40c-292f9e9b9dae"
      },
      "outputs": [
        {
          "name": "stdout",
          "output_type": "stream",
          "text": [
            "datar_siswa :  {'tom': 30, 'rian': 90, 'jim': 60, 'lily': 70, 'abby': 40}\n",
            "Siswa dengan nilai terbaik adalah:\n",
            "Nama :  rian\n",
            "Nilai :  90\n"
          ]
        }
      ],
      "source": [
        "# Penggunaan function\n",
        "best_nama, best_nilai = cek_nilai(tom=30, rian=90, jim=60, lily=70, abby=40)\n",
        "\n",
        "# Menunjukkan siapa yang terbaik\n",
        "print(\"Siswa dengan nilai terbaik adalah:\")\n",
        "print('Nama : ', best_nama)\n",
        "print('Nilai : ', best_nilai)"
      ]
    },
    {
      "cell_type": "code",
      "execution_count": null,
      "metadata": {
        "colab": {
          "base_uri": "https://localhost:8080/"
        },
        "id": "-8GcYDvAHQjq",
        "outputId": "b495b7af-adf2-4877-b92e-3285d57b72b7"
      },
      "outputs": [
        {
          "name": "stdout",
          "output_type": "stream",
          "text": [
            "datar_siswa :  {'frank': 100}\n",
            "Siswa dengan nilai terbaik adalah:\n",
            "Nama :  frank\n",
            "Nilai :  100\n"
          ]
        }
      ],
      "source": [
        "# Penggunaan function\n",
        "best_nama, best_nilai = cek_nilai(frank=100)\n",
        "\n",
        "# Menunjukkan siapa yang terbaik\n",
        "print(\"Siswa dengan nilai terbaik adalah:\")\n",
        "print('Nama : ', best_nama)\n",
        "print('Nilai : ', best_nilai)"
      ]
    },
    {
      "cell_type": "markdown",
      "metadata": {
        "id": "zaXcO2Y4Hur7"
      },
      "source": [
        "---\n",
        "## E. Section 5 : Modules"
      ]
    },
    {
      "cell_type": "markdown",
      "metadata": {
        "id": "ksG7wx2Fzzk-"
      },
      "source": [
        "**NOMOR 8**\n",
        "\n",
        "Buatlah sebuah file dengan nama `person.py` dengan isi :\n",
        "```\n",
        "name = 'zack'\n",
        "devices = ['laptop', 'smartphone', 'laptop']\n",
        "\n",
        "def introduction():\n",
        "  print('Hello my name is zack')\n"
      ]
    },
    {
      "cell_type": "markdown",
      "metadata": {
        "id": "DwQBH_iP0YbJ"
      },
      "source": [
        "Lakukan hal-hal dibawah ini :\n",
        "\n",
        "1. Load module `person`\n",
        "\n",
        "2. Tampilkan jenis `devices`\n",
        "\n",
        "3. Buat alias dari module `person` yang baru saja Anda load."
      ]
    },
    {
      "cell_type": "code",
      "execution_count": null,
      "metadata": {
        "id": "3fxZkk-5N51o"
      },
      "outputs": [],
      "source": [
        "# Load module `person`\n",
        "\n",
        "import person as p\n",
        "from person import devices\n",
        "from person import introduction\n",
        "from person import name"
      ]
    },
    {
      "cell_type": "code",
      "execution_count": null,
      "metadata": {
        "colab": {
          "base_uri": "https://localhost:8080/"
        },
        "id": "UqT1pqnVkKou",
        "outputId": "b8282591-bb28-4975-c87f-6d187fb8a97a"
      },
      "outputs": [
        {
          "data": {
            "text/plain": [
              "['__builtins__',\n",
              " '__cached__',\n",
              " '__doc__',\n",
              " '__file__',\n",
              " '__loader__',\n",
              " '__name__',\n",
              " '__package__',\n",
              " '__spec__',\n",
              " 'devices',\n",
              " 'introduction',\n",
              " 'name']"
            ]
          },
          "execution_count": 60,
          "metadata": {},
          "output_type": "execute_result"
        }
      ],
      "source": [
        "# Cek method yang ada dalam module\n",
        "dir(person)"
      ]
    },
    {
      "cell_type": "code",
      "execution_count": null,
      "metadata": {
        "colab": {
          "base_uri": "https://localhost:8080/"
        },
        "id": "8FuQGtEFORDC",
        "outputId": "4dc0a23f-a0bc-4208-dfd5-acb459e39668"
      },
      "outputs": [
        {
          "data": {
            "text/plain": [
              "['laptop', 'smartphone', 'kulkas']"
            ]
          },
          "execution_count": 61,
          "metadata": {},
          "output_type": "execute_result"
        }
      ],
      "source": [
        "# Menampilkan jenis devices\n",
        "person.devices"
      ]
    },
    {
      "cell_type": "code",
      "execution_count": null,
      "metadata": {
        "colab": {
          "base_uri": "https://localhost:8080/",
          "height": 35
        },
        "id": "VDvkNfqckKov",
        "outputId": "be9d82f9-a0ce-4caf-92a4-2101fbedbdd8"
      },
      "outputs": [
        {
          "data": {
            "application/vnd.google.colaboratory.intrinsic+json": {
              "type": "string"
            },
            "text/plain": [
              "'zack'"
            ]
          },
          "execution_count": 62,
          "metadata": {},
          "output_type": "execute_result"
        }
      ],
      "source": [
        "# Menampilkan nama\n",
        "person.name"
      ]
    },
    {
      "cell_type": "code",
      "execution_count": null,
      "metadata": {
        "colab": {
          "base_uri": "https://localhost:8080/"
        },
        "id": "8izHFV5sOfMj",
        "outputId": "fe26496f-1a8a-40d2-b9e5-9fc3bbdfe647"
      },
      "outputs": [
        {
          "name": "stdout",
          "output_type": "stream",
          "text": [
            "Hello my name is zack\n"
          ]
        }
      ],
      "source": [
        "# Memanggil function didalam module\n",
        "person.introduction()"
      ]
    },
    {
      "cell_type": "code",
      "execution_count": null,
      "metadata": {
        "colab": {
          "base_uri": "https://localhost:8080/",
          "height": 35
        },
        "id": "oOm2n4dIOsJk",
        "outputId": "2596e66f-2090-49ba-d6ea-bccdb0996a79"
      },
      "outputs": [
        {
          "data": {
            "application/vnd.google.colaboratory.intrinsic+json": {
              "type": "string"
            },
            "text/plain": [
              "'zack'"
            ]
          },
          "execution_count": 65,
          "metadata": {},
          "output_type": "execute_result"
        }
      ],
      "source": [
        "# Load module menggunakan alias\n",
        "p.name"
      ]
    },
    {
      "cell_type": "code",
      "execution_count": null,
      "metadata": {
        "colab": {
          "base_uri": "https://localhost:8080/",
          "height": 35
        },
        "id": "TENjR1QpKM62",
        "outputId": "5801a72a-7fa5-49e5-8a62-3b1954e4af2a"
      },
      "outputs": [
        {
          "data": {
            "application/vnd.google.colaboratory.intrinsic+json": {
              "type": "string"
            },
            "text/plain": [
              "'zack'"
            ]
          },
          "execution_count": 67,
          "metadata": {},
          "output_type": "execute_result"
        }
      ],
      "source": [
        "name"
      ]
    },
    {
      "cell_type": "code",
      "execution_count": null,
      "metadata": {
        "colab": {
          "base_uri": "https://localhost:8080/"
        },
        "id": "GLE1Ua-iKPVS",
        "outputId": "3dcb3e57-410c-4221-b01a-77e693f0a30f"
      },
      "outputs": [
        {
          "data": {
            "text/plain": [
              "['laptop', 'smartphone', 'kulkas']"
            ]
          },
          "execution_count": 68,
          "metadata": {},
          "output_type": "execute_result"
        }
      ],
      "source": [
        "devices"
      ]
    },
    {
      "cell_type": "code",
      "execution_count": null,
      "metadata": {
        "colab": {
          "base_uri": "https://localhost:8080/"
        },
        "id": "UggppGFlKQ4D",
        "outputId": "aa0b6769-1865-446b-8005-8f22265d016d"
      },
      "outputs": [
        {
          "name": "stdout",
          "output_type": "stream",
          "text": [
            "Hello my name is zack\n"
          ]
        }
      ],
      "source": [
        "introduction()"
      ]
    },
    {
      "cell_type": "markdown",
      "metadata": {
        "id": "WDthdwJ901e1"
      },
      "source": [
        "**NOMOR 9**\n",
        "\n",
        "Buatlah sebuah file dengan nama `car.py` dengan isi :\n",
        "```\n",
        "brand = ['honda', 'toyota', 'ford']\n",
        "country = ['japan', 'japan', 'usa']\n",
        "```\n",
        "\n",
        "Lakukan hal dibawah ini :\n",
        "\n",
        "1. Tampilkan variabel/elemet apa saja yang dapat Anda load dari module `car.py`\n",
        "\n",
        "2. Load hanya variabel `brand` dari module `car.py`"
      ]
    },
    {
      "cell_type": "code",
      "execution_count": null,
      "metadata": {
        "colab": {
          "base_uri": "https://localhost:8080/"
        },
        "id": "Um-Bnn49QC5o",
        "outputId": "9b193566-b36d-4357-d0d2-528adcae5115"
      },
      "outputs": [
        {
          "data": {
            "text/plain": [
              "['__builtins__',\n",
              " '__cached__',\n",
              " '__doc__',\n",
              " '__file__',\n",
              " '__loader__',\n",
              " '__name__',\n",
              " '__package__',\n",
              " '__spec__',\n",
              " 'brand',\n",
              " 'country']"
            ]
          },
          "execution_count": 9,
          "metadata": {},
          "output_type": "execute_result"
        }
      ],
      "source": [
        "# Load `car.py` dan cek element pada module `car.py`\n",
        "\n",
        "# Code in here\n",
        "..."
      ]
    },
    {
      "cell_type": "code",
      "execution_count": null,
      "metadata": {
        "colab": {
          "base_uri": "https://localhost:8080/"
        },
        "id": "dV0isL9XQanS",
        "outputId": "41e06555-7c11-46e5-803d-d492475d284c"
      },
      "outputs": [
        {
          "data": {
            "text/plain": [
              "['honda', 'toyota', 'ford']"
            ]
          },
          "execution_count": 11,
          "metadata": {},
          "output_type": "execute_result"
        }
      ],
      "source": [
        "# Load bagian yang spesifik didalam sebuah module\n",
        "\n",
        "# Code in here\n",
        "..."
      ]
    },
    {
      "cell_type": "markdown",
      "metadata": {
        "id": "78m5o69u1X1w"
      },
      "source": [
        "**NOMOR 10**\n",
        "\n",
        "Lakukan hal dibawah ini :\n",
        "\n",
        "1. Install library bernama `pymongo`.\n",
        "\n",
        "2. Cek lokasi dimana library tersebut berada.\n",
        "\n",
        "3. Cek versi library yang baru saja Anda install."
      ]
    },
    {
      "cell_type": "code",
      "execution_count": null,
      "metadata": {
        "id": "DzSNlhOOROw2"
      },
      "outputs": [],
      "source": [
        "# Install library pymongo\n",
        "\n",
        "pip install pymongo"
      ]
    },
    {
      "cell_type": "code",
      "execution_count": null,
      "metadata": {
        "id": "fVgmnxmIRk46"
      },
      "outputs": [],
      "source": [
        "# Cek lokasi pymongo dan version pymongo\n",
        "\n",
        "# Code in here\n",
        "..."
      ]
    }
  ],
  "metadata": {
    "colab": {
      "provenance": []
    },
    "kernelspec": {
      "display_name": "Python 3",
      "name": "python3"
    },
    "language_info": {
      "codemirror_mode": {
        "name": "ipython",
        "version": 3
      },
      "file_extension": ".py",
      "mimetype": "text/x-python",
      "name": "python",
      "nbconvert_exporter": "python",
      "pygments_lexer": "ipython3",
      "version": "3.9.17"
    }
  },
  "nbformat": 4,
  "nbformat_minor": 0
}
