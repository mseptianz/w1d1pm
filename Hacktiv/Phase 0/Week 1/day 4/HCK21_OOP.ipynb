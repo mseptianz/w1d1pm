{
  "nbformat": 4,
  "nbformat_minor": 0,
  "metadata": {
    "colab": {
      "provenance": []
    },
    "kernelspec": {
      "name": "python3",
      "display_name": "Python 3"
    },
    "language_info": {
      "name": "python"
    }
  },
  "cells": [
    {
      "cell_type": "markdown",
      "source": [
        "# Object Oriented Programming"
      ],
      "metadata": {
        "id": "QDV5znh5DNL5"
      }
    },
    {
      "cell_type": "markdown",
      "source": [
        "## Class & Object"
      ],
      "metadata": {
        "id": "bFDRflCVDSIW"
      }
    },
    {
      "cell_type": "code",
      "source": [
        "# Bikin class Handphone\n",
        "class Handphone():\n",
        "  # Constructor\n",
        "  def __init__(self, warna, memory):\n",
        "    # Attributes\n",
        "    self.warna = warna\n",
        "    self.memory = memory\n",
        "    self.battery = 0\n",
        "\n",
        "  # Informasi class\n",
        "  def __str__(self):\n",
        "    return f\"Handphone ini memiliki memori {self.memory} gb, berwarna {self.warna}, dan baterai {self.battery}%\"\n",
        "\n",
        "  # Method untuk charge baterai\n",
        "  def charge(self, daya):\n",
        "    # Assign ulang atribut baterai sesuai keinginan\n",
        "    self.battery = daya\n",
        "    print(f\"Baterai berhasil di-charge ke {daya}%\")"
      ],
      "metadata": {
        "id": "zTosjMY3Djfm"
      },
      "execution_count": null,
      "outputs": []
    },
    {
      "cell_type": "code",
      "source": [
        "# Bikin suatu instance/object/variabel penangkap class\n",
        "handphone_yosef = Handphone(warna=\"biru\", memory=512)\n",
        "\n",
        "# Tunjukkan isinya\n",
        "print(handphone_yosef)\n",
        "\n",
        "# # Menjalankan method charge\n",
        "# handphone_yosef.charge(80)\n",
        "\n",
        "# # Tunjukkan atributnya\n",
        "# print(handphone_yosef.warna)\n",
        "# print(handphone_yosef.memory)\n",
        "# print(handphone_yosef.battery)"
      ],
      "metadata": {
        "colab": {
          "base_uri": "https://localhost:8080/"
        },
        "id": "zzg62wFdErSv",
        "outputId": "37f0de4a-232e-4c56-cc33-7bcc945df331"
      },
      "execution_count": null,
      "outputs": [
        {
          "output_type": "stream",
          "name": "stdout",
          "text": [
            "Handphone ini memiliki memori 512 gb, berwarna biru, dan baterai 0%\n"
          ]
        }
      ]
    },
    {
      "cell_type": "markdown",
      "source": [
        "## Inheritance"
      ],
      "metadata": {
        "id": "HSFi5-gBDV6u"
      }
    },
    {
      "cell_type": "code",
      "source": [
        "# Bikin child class `Android`\n",
        "class Android(Handphone):\n",
        "  def __init__(self, warna, memory):\n",
        "    super().__init__(warna, memory)\n",
        "    # Handphone.__init__(self)\n",
        "    self.brand = \"Google Pixel\"\n",
        "    self.warna = warna\n",
        "    self.memory = memory\n",
        "\n",
        "  # Override method\n",
        "  def __str__(self):\n",
        "    return f\"\"\"\n",
        "    Brand {self.brand} menggunakan OS Android.\n",
        "    Memiliki memori {self.memory} gb, berwarna {self.warna}, baterai {self.battery}%, dan brand {self.brand}\n",
        "    \"\"\""
      ],
      "metadata": {
        "id": "rzO4ZOk3KaGF"
      },
      "execution_count": null,
      "outputs": []
    },
    {
      "cell_type": "code",
      "source": [
        "# Bikin instance baru\n",
        "handphone_ayman = Android(warna=\"hitam\", memory=1024)\n",
        "\n",
        "# Tunjukkan isinya\n",
        "print(handphone_ayman)\n",
        "\n",
        "# # Coba pake method\n",
        "# handphone_ayman.charge(100)\n",
        "\n",
        "# # Lihat atribut\n",
        "# print(handphone_ayman.warna)\n",
        "# print(handphone_ayman.memory)\n",
        "# print(handphone_ayman.battery)\n",
        "# print(handphone_ayman.brand)"
      ],
      "metadata": {
        "colab": {
          "base_uri": "https://localhost:8080/"
        },
        "id": "tGZbelORK0yj",
        "outputId": "abc30ac8-97b1-48ed-e2ca-e756c47e2f22"
      },
      "execution_count": null,
      "outputs": [
        {
          "output_type": "stream",
          "name": "stdout",
          "text": [
            "\n",
            "    Brand Google Pixel menggunakan OS Android.\n",
            "    Memiliki memori 1024 gb, berwarna hitam, baterai 0%, dan brand Google Pixel\n",
            "    \n"
          ]
        }
      ]
    },
    {
      "cell_type": "markdown",
      "source": [
        "## Encapsulation"
      ],
      "metadata": {
        "id": "PB0eTnHKDYz4"
      }
    },
    {
      "cell_type": "markdown",
      "source": [
        "Jika ada beberapa atribut yang ingin dirahasiakan atau tidak semua orang bisa akses"
      ],
      "metadata": {
        "id": "NGnANn7dPytq"
      }
    },
    {
      "cell_type": "code",
      "source": [
        "# Bikin class baru `User`\n",
        "class User():\n",
        "  def __init__(self, username, password, email, nohp):\n",
        "    self.username = username\n",
        "    self.__password = password\n",
        "    self.email = email\n",
        "    self.__nohp = nohp\n",
        "\n",
        "  # SETTER\n",
        "  def reset_password(self, new_password):\n",
        "    # Assign ulang value password\n",
        "    self.__password = new_password\n",
        "    print(\"Password berhasil di-reset\")\n",
        "\n",
        "  def reset_nohp(self, new_nohp):\n",
        "    # Assign ulang value nohp\n",
        "    self.__nohp = new_nohp\n",
        "    print(\"Nomor handphone berhasil di-reset\")\n",
        "\n",
        "  # GETTER\n",
        "  def get_password(self):\n",
        "    return self.__password\n",
        "\n",
        "  def get_nohp(self):\n",
        "    return self.__nohp"
      ],
      "metadata": {
        "id": "QaHlxyPoPyOU"
      },
      "execution_count": null,
      "outputs": []
    },
    {
      "cell_type": "code",
      "source": [
        "# Misal bikin akun (instance)\n",
        "akun_yosef = User(username=\"yosef\", password=\"1234\", email=\"yosef@mail.com\", nohp=\"081234567890\")\n",
        "\n",
        "# Akses getter\n",
        "print(\"Sebelum perubahan\")\n",
        "print(akun_yosef.get_password())\n",
        "print(akun_yosef.get_nohp())\n",
        "\n",
        "# Akses setter\n",
        "print(\"\\nPerubahan\")\n",
        "akun_yosef.reset_password(\"5678\")\n",
        "akun_yosef.reset_nohp(\"080987654321\")\n",
        "\n",
        "# Akses getter lagi untuk lihat hasil perubahan\n",
        "print(\"\\nSetelah perubahan\")\n",
        "print(akun_yosef.get_password())\n",
        "print(akun_yosef.get_nohp())"
      ],
      "metadata": {
        "colab": {
          "base_uri": "https://localhost:8080/"
        },
        "id": "8jg_fZ1XQc2-",
        "outputId": "b29c81a6-09e1-4819-b4ce-7f9f584c617c"
      },
      "execution_count": null,
      "outputs": [
        {
          "output_type": "stream",
          "name": "stdout",
          "text": [
            "Sebelum perubahan\n",
            "1234\n",
            "081234567890\n",
            "\n",
            "Perubahan\n",
            "Password berhasil di-reset\n",
            "Nomor handphone berhasil di-reset\n",
            "\n",
            "Setelah perubahan\n",
            "5678\n",
            "080987654321\n"
          ]
        }
      ]
    },
    {
      "cell_type": "markdown",
      "source": [
        "## Polymorphism"
      ],
      "metadata": {
        "id": "03oa5F_pDcAT"
      }
    },
    {
      "cell_type": "markdown",
      "source": [
        "- Overriding  (Python)\n",
        "- Overloading"
      ],
      "metadata": {
        "id": "F3bhIPyTWWrB"
      }
    },
    {
      "cell_type": "code",
      "source": [
        "# Bikin class `Iphone` anak class Handphone dan setara Android\n",
        "class Iphone(Handphone):\n",
        "  def __init__(self, warna, memory):\n",
        "    super().__init__(warna, memory)\n",
        "    self.brand = \"Apple iPhone\"\n",
        "\n",
        "  # Override method\n",
        "  def __str__(self):\n",
        "    return f\"\"\"\n",
        "    Merek {self.brand} nih bos!\n",
        "    \"\"\""
      ],
      "metadata": {
        "id": "UzGGLItMWiMY"
      },
      "execution_count": null,
      "outputs": []
    },
    {
      "cell_type": "code",
      "source": [
        "# Bikin instance iPhone San\n",
        "handphone_san = Iphone(warna=\"Sky Blue\", memory=512)\n",
        "\n",
        "# Tunjukkan isi\n",
        "print(handphone_san)"
      ],
      "metadata": {
        "colab": {
          "base_uri": "https://localhost:8080/"
        },
        "id": "l_0fzh1fXQeU",
        "outputId": "d3eed411-423e-4e84-b32b-ad650fadc995"
      },
      "execution_count": null,
      "outputs": [
        {
          "output_type": "stream",
          "name": "stdout",
          "text": [
            "\n",
            "    Merek Apple iPhone nih bos!\n",
            "    \n"
          ]
        }
      ]
    },
    {
      "cell_type": "markdown",
      "source": [
        "# OOP EXERCISES"
      ],
      "metadata": {
        "id": "_RyUdMRQatwD"
      }
    },
    {
      "cell_type": "markdown",
      "source": [
        "## RL Case 1 - Bank Account"
      ],
      "metadata": {
        "id": "OUtPE5Flaw0R"
      }
    },
    {
      "cell_type": "code",
      "source": [
        "# Bikin class `BankAccount`\n",
        "class BankAccount():\n",
        "  def __init__(self, account_number, balance, date_of_opening, customer_name):\n",
        "    self.account_number = account_number\n",
        "    self.balance = balance\n",
        "    self.date_of_opening = date_of_opening\n",
        "    self.customer_name = customer_name\n",
        "\n",
        "  # Method Deposit\n",
        "  def deposit(self, amount):\n",
        "    self.balance += amount\n",
        "    # self.balance = self.balance + amount\n",
        "    return self # Biar bisa chain coding\n",
        "\n",
        "  # Method Withdraw\n",
        "  def withdraw(self, amount):\n",
        "    self.balance -= amount\n",
        "    # self.balance = self.balance - amount\n",
        "    return self\n",
        "\n",
        "  # Method Check Balance\n",
        "  def check_balance(self):\n",
        "    return f\"Rp.{self.balance},-\"\n",
        "    return self"
      ],
      "metadata": {
        "id": "IETJk4Cva2ke"
      },
      "execution_count": null,
      "outputs": []
    },
    {
      "cell_type": "code",
      "source": [
        "# Bikin akun (instance/object)\n",
        "akun_yosef = BankAccount(account_number=123, balance=0, date_of_opening=\"9-5-2024\", customer_name=\"Yosef\")\n",
        "\n",
        "# Cek saldo dengan akses atribut\n",
        "# print(\"Rp.\",akun_yosef.balance,\",-\")\n",
        "\n",
        "# Cek saldo dengan method\n",
        "print(f\"Sebelum deposit dan tarik tunai {akun_yosef.check_balance()}\")\n",
        "\n",
        "# Deposit & Tarik Tunai\n",
        "akun_yosef.deposit(1000000).deposit(3000000).withdraw(2000000).check_balance()\n",
        "\n",
        "# Cek saldo lagi\n",
        "print(f\"Setelah deposit dan tarik tunai {akun_yosef.check_balance()}\")"
      ],
      "metadata": {
        "colab": {
          "base_uri": "https://localhost:8080/"
        },
        "id": "0t_m0AkbbkR9",
        "outputId": "a5e3faa0-09c4-4814-a3c4-ead413f57c8a"
      },
      "execution_count": null,
      "outputs": [
        {
          "output_type": "stream",
          "name": "stdout",
          "text": [
            "Sebelum deposit dan tarik tunai Rp.0,-\n",
            "Setelah deposit dan tarik tunai Rp.2000000,-\n"
          ]
        }
      ]
    },
    {
      "cell_type": "markdown",
      "source": [
        "## RL Case 2 - Employee Data"
      ],
      "metadata": {
        "id": "mP8VLzlRgGZf"
      }
    },
    {
      "cell_type": "code",
      "source": [
        "# Inisiasi list data\n",
        "data = [\n",
        "    {\"name\":\"ADAMS\", \"id\":\"E7876\", \"salary\":50000, \"department\":\"ACCOUNTING\"},\n",
        "    {\"name\":\"JONES\", \"id\":\"E7499\", \"salary\":45000, \"department\":\"RESEARCH\"},\n",
        "    {\"name\":\"MARTIN\", \"id\":\"E7900\", \"salary\":50000, \"department\":\"SALES\"},\n",
        "    {\"name\":\"SMITH\", \"id\":\"E7698\", \"salary\":55000, \"department\":\"OPERATIONS\"}]\n",
        "\n",
        "# Bikin class `Employee`\n",
        "class Employee():\n",
        "  def __init__(self, name, id, salary, department):\n",
        "    self.name = name\n",
        "    self.id = id\n",
        "    self.salary = salary\n",
        "    self.department = department\n",
        "\n",
        "  def print_employee_details(self):\n",
        "    return f\"\"\"\n",
        "    Name: {self.name}\n",
        "    ID: {self.id}\n",
        "    Salary: Rp.{self.salary},- hourly\n",
        "    Department: {self.department}\n",
        "    \"\"\"\n",
        "\n",
        "  def calculate_emp_salary(self, hours_worked):\n",
        "    overtime = hours_worked - 50\n",
        "    if overtime > 0:\n",
        "      return (overtime * (self.salary / 50)) + (self.salary * hours_worked)\n",
        "    else:\n",
        "      return self.salary * hours_worked\n",
        "\n",
        "  def assign_department(self, new_department):\n",
        "    self.department = new_department\n",
        "\n",
        "# Membuat object/instance dari hasil looping list data\n",
        "for emp in data:\n",
        "  object_emp = Employee(emp[\"name\"], emp[\"id\"], emp[\"salary\"], emp[\"department\"])\n",
        "  # print(object_emp.name)\n",
        "  # print(object_emp.id)\n",
        "  # print(object_emp.salary)\n",
        "  # print(object_emp.department)\n",
        "  # print(object_emp.print_employee_details())\n",
        "  # print(object_emp.calculate_emp_salary(hours_worked=60))\n",
        "  object_emp.assign_department(\"HR\")\n",
        "  print(object_emp.print_employee_details())\n",
        "  print(\"\")"
      ],
      "metadata": {
        "colab": {
          "base_uri": "https://localhost:8080/"
        },
        "id": "Jt4MR62ugJAU",
        "outputId": "665d8b33-eee6-4ba9-c1d5-60fddafd49d7"
      },
      "execution_count": null,
      "outputs": [
        {
          "output_type": "stream",
          "name": "stdout",
          "text": [
            "\n",
            "    Name: ADAMS\n",
            "    ID: E7876\n",
            "    Salary: Rp.50000,- hourly\n",
            "    Department: HR\n",
            "    \n",
            "\n",
            "\n",
            "    Name: JONES\n",
            "    ID: E7499\n",
            "    Salary: Rp.45000,- hourly\n",
            "    Department: HR\n",
            "    \n",
            "\n",
            "\n",
            "    Name: MARTIN\n",
            "    ID: E7900\n",
            "    Salary: Rp.50000,- hourly\n",
            "    Department: HR\n",
            "    \n",
            "\n",
            "\n",
            "    Name: SMITH\n",
            "    ID: E7698\n",
            "    Salary: Rp.55000,- hourly\n",
            "    Department: HR\n",
            "    \n",
            "\n"
          ]
        }
      ]
    }
  ]
}