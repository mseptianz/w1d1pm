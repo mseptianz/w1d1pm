{
  "nbformat": 4,
  "nbformat_minor": 0,
  "metadata": {
    "colab": {
      "provenance": []
    },
    "kernelspec": {
      "name": "python3",
      "display_name": "Python 3"
    },
    "language_info": {
      "name": "python"
    }
  },
  "cells": [
    {
      "cell_type": "markdown",
      "source": [
        "# Object oriented Programming\n"
      ],
      "metadata": {
        "id": "COLhG0Z1jSfG"
      }
    },
    {
      "cell_type": "markdown",
      "source": [
        "## Class & Object"
      ],
      "metadata": {
        "id": "LHteEOAAjXMm"
      }
    },
    {
      "cell_type": "code",
      "source": [
        "# Bikin class Handphone\n",
        "\n",
        "class Handphone():\n",
        "  #Constructor\n",
        "  def __init__(self,warna,memory):\n",
        "    # Atributes\n",
        "    self.warna = warna\n",
        "    self.memory = memory\n",
        "    self.battery = 0\n",
        "  #infromasi class\n",
        "  def __str__(self):\n",
        "    return f\"Handphone ini memiliki memory {self.memory} gb, berwarna {self.warna} dan baterai {self.battery}%\"\n",
        "  #method untuk charge baterry\n",
        "  def charge (self,daya):\n",
        "    #assign ulang atribut battery\n",
        "    self.battery = daya\n",
        "    print(f\"Battery berhasil dicharge ke {daya}%\")\n"
      ],
      "metadata": {
        "id": "nHXqAjgpjmtU"
      },
      "execution_count": 1,
      "outputs": []
    },
    {
      "cell_type": "code",
      "source": [
        "# Bikkin suatu insrtance / object / variabel  penangkap class\n",
        "handphone_gw = Handphone(warna ='biru', memory = 128)\n",
        "print(handphone_gw)\n",
        "\n",
        "#menjalankan method charge\n",
        "# handphone_gw.charge(80)\n",
        "\n",
        "#Menunjukan atribut\n",
        "# print(handphone_gw.warna)\n",
        "# print(handphone_gw.memory)\n",
        "print(handphone_gw.battery)"
      ],
      "metadata": {
        "colab": {
          "base_uri": "https://localhost:8080/"
        },
        "id": "ZMpFqj7nkvWY",
        "outputId": "989e3f48-6c3d-4b24-c8f9-fe2b4d5349f3"
      },
      "execution_count": 2,
      "outputs": [
        {
          "output_type": "stream",
          "name": "stdout",
          "text": [
            "Handphone ini memiliki memory 128 gb, berwarna biru dan baterai 0%\n",
            "0\n"
          ]
        }
      ]
    },
    {
      "cell_type": "markdown",
      "source": [
        "## Inheritance"
      ],
      "metadata": {
        "id": "yLJk0Qh7jaFV"
      }
    },
    {
      "cell_type": "code",
      "source": [
        "# Bikin child class 'Android'\n",
        "class Android(Handphone):\n",
        "  def __init__(self,warna,memory):\n",
        "    # Handphone.__init__(self) --> CARA LAMA\n",
        "    super().__init__(warna,memory) #--> CARA BARU\n",
        "    self.brand = 'Samsung'\n",
        "    self.warna = warna\n",
        "    self.memorty = memory\n",
        "\n",
        "  #override method\n",
        "  def __str__(self):\n",
        "    return f\"\"\"\n",
        "    Brand {self.brand} menggunakan OS Android\n",
        "    Handphone ini memiliki memory {self.memory} gb, berwarna {self.warna}, baterai {self.battery}%, dan brand {self.brand}\n",
        "    \"\"\""
      ],
      "metadata": {
        "id": "fmOEkP7WqdAE"
      },
      "execution_count": 3,
      "outputs": []
    },
    {
      "cell_type": "code",
      "source": [
        "# bikin instrance baru\n",
        "handphone_ayman = Android(warna = 'biru',memory = 128)\n",
        "\n",
        "# tunjukan isinya\n",
        "print(handphone_ayman)\n",
        "\n",
        "#COBA PAKE METHOD\n",
        "handphone_ayman.charge(10)\n",
        "\n",
        "#Lihat atribut\n",
        "print(handphone_ayman.warna)\n",
        "print(handphone_ayman.memory)\n",
        "print(handphone_ayman.battery)\n",
        "print(handphone_ayman.brand)"
      ],
      "metadata": {
        "colab": {
          "base_uri": "https://localhost:8080/"
        },
        "id": "cFvbjq8Kq5iV",
        "outputId": "ca76a6d6-a5cb-4053-9617-81ddf706cd13"
      },
      "execution_count": 4,
      "outputs": [
        {
          "output_type": "stream",
          "name": "stdout",
          "text": [
            "\n",
            "    Brand Samsung menggunakan OS Android\n",
            "    Handphone ini memiliki memory 128 gb, berwarna biru, baterai 0%, dan brand Samsung\n",
            "    \n",
            "Battery berhasil dicharge ke 10%\n",
            "biru\n",
            "128\n",
            "10\n",
            "Samsung\n"
          ]
        }
      ]
    },
    {
      "cell_type": "markdown",
      "source": [
        "## Encapsulation\n"
      ],
      "metadata": {
        "id": "EkIKP0a_jb62"
      }
    },
    {
      "cell_type": "markdown",
      "source": [
        " jika ada beberapa atribut yang ingin dirahasiakan atau tidak membuat semua orang bisa akses"
      ],
      "metadata": {
        "id": "wYLmdEqKwA_5"
      }
    },
    {
      "cell_type": "code",
      "source": [
        "# bikin class baru 'user'\n",
        "class User():\n",
        "  def __init__ (self,username,password,email,no_hp):\n",
        "    self.username = username\n",
        "    self.__password = password\n",
        "    self.email = email\n",
        "    self.__no_hp = no_hp\n",
        "\n",
        "  #SETTER\n",
        "  def reset_password (self,new_password):\n",
        "    #assign ulang password\n",
        "    self.__password = new_password\n",
        "    print(\"Password berhasil di reset\")\n",
        "\n",
        "\n",
        "  def reset_no_hp (self,new_no_hp):\n",
        "    #assign ulang no_hp\n",
        "    self.__no_hp = new_no_hp\n",
        "    print(\"Nomor Handphone berhasil di reset\")\n",
        "\n",
        "  #GETTER\n",
        "  def get__password(self):\n",
        "    return self.__password\n",
        "\n",
        "  def get__no_hp(self):\n",
        "    return self.__no_hp\n",
        ""
      ],
      "metadata": {
        "id": "mPeQ-rAav3I0"
      },
      "execution_count": 5,
      "outputs": []
    },
    {
      "cell_type": "code",
      "source": [
        "akun_gw = User(username =\"iyan\",password = '12345',email =\" iyanganteng@gmail.com\", no_hp = '08129424222')"
      ],
      "metadata": {
        "id": "Oeor-lMOwlL1"
      },
      "execution_count": 6,
      "outputs": []
    },
    {
      "cell_type": "code",
      "source": [
        "#akses getter\n",
        "print(\"Sebelum perubahan\")\n",
        "print(akun_gw.get__password())\n",
        "print(akun_gw.get__no_hp())\n",
        "\n",
        "\n",
        "#akses setter\n",
        "print(\"\\nPerubahan\")\n",
        "print(akun_gw.reset_password('54321'))\n",
        "print(akun_gw.reset_no_hp('08113232193'))\n",
        "\n",
        "#Akses getter setelah perubahan\n",
        "print(\"\\nSetelah perubahan\")\n",
        "print(akun_gw.get__password())\n",
        "print(akun_gw.get__no_hp())\n"
      ],
      "metadata": {
        "colab": {
          "base_uri": "https://localhost:8080/"
        },
        "id": "TWZrX_fKy0uD",
        "outputId": "0a9a9a1d-d6df-4e92-d95e-22ece7027bd5"
      },
      "execution_count": 7,
      "outputs": [
        {
          "output_type": "stream",
          "name": "stdout",
          "text": [
            "Sebelum perubahan\n",
            "12345\n",
            "08129424222\n",
            "\n",
            "Perubahan\n",
            "Password berhasil di reset\n",
            "None\n",
            "Nomor Handphone berhasil di reset\n",
            "None\n",
            "\n",
            "Setelah perubahan\n",
            "54321\n",
            "08113232193\n"
          ]
        }
      ]
    },
    {
      "cell_type": "code",
      "source": [
        "#AKSES PASSWORD DAN NO HP\n",
        "print(akun_gw.password)\n",
        "print(akun_gw.nohp)"
      ],
      "metadata": {
        "colab": {
          "base_uri": "https://localhost:8080/",
          "height": 176
        },
        "id": "8MgI16e2xQRg",
        "outputId": "2e2c90ad-2dad-4866-c0f5-c26b205ff412"
      },
      "execution_count": 9,
      "outputs": [
        {
          "output_type": "error",
          "ename": "AttributeError",
          "evalue": "'User' object has no attribute 'password'",
          "traceback": [
            "\u001b[0;31m---------------------------------------------------------------------------\u001b[0m",
            "\u001b[0;31mAttributeError\u001b[0m                            Traceback (most recent call last)",
            "\u001b[0;32m<ipython-input-9-00acc6252056>\u001b[0m in \u001b[0;36m<cell line: 2>\u001b[0;34m()\u001b[0m\n\u001b[1;32m      1\u001b[0m \u001b[0;31m#AKSES PASSWORD DAN NO HP\u001b[0m\u001b[0;34m\u001b[0m\u001b[0;34m\u001b[0m\u001b[0m\n\u001b[0;32m----> 2\u001b[0;31m \u001b[0mprint\u001b[0m\u001b[0;34m(\u001b[0m\u001b[0makun_gw\u001b[0m\u001b[0;34m.\u001b[0m\u001b[0mpassword\u001b[0m\u001b[0;34m)\u001b[0m\u001b[0;34m\u001b[0m\u001b[0;34m\u001b[0m\u001b[0m\n\u001b[0m\u001b[1;32m      3\u001b[0m \u001b[0mprint\u001b[0m\u001b[0;34m(\u001b[0m\u001b[0makun_gw\u001b[0m\u001b[0;34m.\u001b[0m\u001b[0mnohp\u001b[0m\u001b[0;34m)\u001b[0m\u001b[0;34m\u001b[0m\u001b[0;34m\u001b[0m\u001b[0m\n",
            "\u001b[0;31mAttributeError\u001b[0m: 'User' object has no attribute 'password'"
          ]
        }
      ]
    },
    {
      "cell_type": "code",
      "source": [
        "# SETTER\n",
        "\n",
        "\n",
        "#GETTER"
      ],
      "metadata": {
        "id": "q1dsLJVNxoiS"
      },
      "execution_count": null,
      "outputs": []
    },
    {
      "cell_type": "markdown",
      "source": [],
      "metadata": {
        "id": "JdGz4tjtwKtA"
      }
    },
    {
      "cell_type": "markdown",
      "source": [
        "## Polymorphism"
      ],
      "metadata": {
        "id": "owt4tbOSje7B"
      }
    },
    {
      "cell_type": "markdown",
      "source": [
        "### Overriding"
      ],
      "metadata": {
        "id": "w6mpfaDj2a_5"
      }
    },
    {
      "cell_type": "code",
      "source": [
        "# bikin class 'Iphone' anak class handphone\n",
        "class Iphone(Handphone):\n",
        "  def __init__(self,warna,memory):\n",
        "    super().__init__(warna,memory)\n",
        "    self.brand = 'Apple Iphone'\n",
        "    # self.warna = warna\n",
        "    # self.memory = memory\n",
        "\n",
        "    #Override method\n",
        "  def __str__(self):\n",
        "     return f\"\"\"\n",
        "    merek {self.brand} nihh boss\"\"\""
      ],
      "metadata": {
        "id": "2kZlHkPU2JNW"
      },
      "execution_count": 26,
      "outputs": []
    },
    {
      "cell_type": "code",
      "source": [
        "# Bikin instance iphone san\n",
        "handphone_san = Iphone(warna ='sky blue',memory = 512)\n",
        "print(handphone_san)"
      ],
      "metadata": {
        "colab": {
          "base_uri": "https://localhost:8080/"
        },
        "id": "k0qw4x5Q3Yq1",
        "outputId": "53866b36-f263-4516-f157-0dbf3f660553"
      },
      "execution_count": 27,
      "outputs": [
        {
          "output_type": "stream",
          "name": "stdout",
          "text": [
            "\n",
            "    merek Apple Iphone nihh boss\n"
          ]
        }
      ]
    },
    {
      "cell_type": "code",
      "source": [],
      "metadata": {
        "id": "mcrPy2pf3Sd9"
      },
      "execution_count": null,
      "outputs": []
    },
    {
      "cell_type": "code",
      "source": [
        "class BankAccount ():\n",
        "    def __init__ (self,account_number, balance, date_of_opening, customer_name):\n",
        "        self.account_number = account_number\n",
        "        self.balance = balance\n",
        "        self.date_of_opening = date_of_opening\n",
        "        self.customer_name = customer_name\n",
        "\n",
        "    #method deposit\n",
        "    def deposit(self,amount):\n",
        "        self.balance += amount\n",
        "        return self #biar bisa chain coding\n",
        "\n",
        "    #Method withdraw\n",
        "    def withdraw(self,amount):\n",
        "        self.balance -= amount\n",
        "        return self\n",
        "\n",
        "    #Method check balance\n",
        "    def check_balance(self):\n",
        "        return f\"Rp.{self.balance},-\"\n",
        "        return self"
      ],
      "metadata": {
        "id": "hZ1ZCcdT7i4_"
      },
      "execution_count": 54,
      "outputs": []
    },
    {
      "cell_type": "code",
      "source": [
        "# bikin akun (instance/object)\n",
        "akun_user = BankAccount(account_number=123,balance=0,date_of_opening=\"9052024\",customer_name=\"Dea\")\n",
        "\n",
        "\n",
        "#cek saldo dengan akses atribut\n",
        "print(\"Saldo anda saat ini : RP.\",akun_user.balance,\"-\")\n",
        "\n",
        "\n",
        "#deposit uang\n",
        "akun_user.deposit(100000).deposit(300000).deposit(100000)\n",
        "\n",
        "print(\"Saldo anda setelah deposit : RP.\",akun_user.balance,\"-\")\n",
        "#withdraw\n",
        "akun_user.withdraw(200000)\n",
        "#cek saldo dengan akses atribut\n",
        "print(\"Saldo anda setelah tarik tunai :RP.\",akun_user.balance,\"-\")\n",
        "print(\"Saldo anda setelah tarik tunai dan deposit :\",akun_user.check_balance())\n"
      ],
      "metadata": {
        "colab": {
          "base_uri": "https://localhost:8080/"
        },
        "id": "qRtWYndB7mh0",
        "outputId": "c15a39c2-42ef-40c5-a37b-b9706ce7d9d8"
      },
      "execution_count": 56,
      "outputs": [
        {
          "output_type": "stream",
          "name": "stdout",
          "text": [
            "Saldo anda saat ini : RP. 0 -\n",
            "Saldo anda setelah deposit : RP. 500000 -\n",
            "Saldo anda setelah tarik tunai :RP. 300000 -\n",
            "Saldo anda setelah tarik tunai dan deposit : Rp.300000,-\n"
          ]
        }
      ]
    },
    {
      "cell_type": "markdown",
      "source": [
        "### RL - Case 2 - Employe Data"
      ],
      "metadata": {
        "id": "I6yW1YLEAIs8"
      }
    },
    {
      "cell_type": "markdown",
      "source": [
        "Write a Python class Employee with attributes like emp_id, emp_name, emp_salary, and emp_department and methods like calculate_emp_salary, emp_assign_department, and print_employee_details. Sample Employee Data:\"ADAMS\", \"E7876\", 50000, \"ACCOUNTING\"\"JONES\", \"E7499\", 45000, \"RESEARCH\"\"MARTIN\", \"E7900\", 50000, \"SALES\"\"SMITH\", \"E7698\", 55000, \"OPERATIONS\"●Use 'assign_department' method to change the department of an employee.●Use 'print_employee_details' method to print the details of an employee.●Use 'calculate_emp_salary' method takes two arguments: salary and hours_worked, which is the number of hours worked by the employee. If the number of hours worked is more than 50, the method computes overtime and adds it to the salary. Overtime is calculated as following formula:Overtime = hours_worked - 50Overtime amount = (overtime * (salary / 50))19\n"
      ],
      "metadata": {
        "id": "ZlrmtN0sAvMR"
      }
    },
    {
      "cell_type": "code",
      "source": [
        "\n",
        "# Inisiasi dictionary data\n",
        "data = [\n",
        "    {\"name\":\"ADAMS\", \"id\":\"E7876\", \"salary\":\"50000\", \"department\":\"ACCOUNTING\"},\n",
        "    {\"name\":\"JONES\", \"id\":\"E7499\", \"salary\":\"45000\", \"department\":\"RESEARCH\"},\n",
        "    {\"name\":\"MARTIN\", \"id\":\"E7900\", \"salary\":\"50000\", \"department\":\"SALES\"},\n",
        "    {\"name\":\"SMITH\", \"id\":\"E7698\", \"salary\":\"55000\", \"department\":\"OPERATIONS\"}]\n",
        "\n",
        "# Inisiasi class Employee\n",
        "class Employe():\n",
        "  def __init__ (self,emp_id, emp_name, emp_salary,emp_department ):\n",
        "    self.emp_id = emp_id\n",
        "    self.emp_name = emp_name\n",
        "    self.emp_salary = emp_salary\n",
        "    self.emp_department = emp_department\n",
        "    return self\n",
        "\n",
        "  #method untuk assign department\n",
        "  def assign_department(self,new_department):\n",
        "    self.emp_department = new_department\n",
        "    print(\"Department berhasil diubah\")\n",
        "    return self\n",
        "\n",
        "  #method untuk menampilkan detail employee\n",
        "  def print_employee_details(self):\n",
        "    print(f\"\"\"\n",
        "    Employee ID : {self.emp_id}\n",
        "    Employee Name : {self.emp_name}\n",
        "    Employee Salary : {self.emp_salary}\"\"\")\n",
        "    return self\n",
        "\n",
        "  #method untuk menghitung salary\n",
        "  def calculate_emp_salary(self,salary,hours_worked):\n",
        "    if hours_worked > 50:\n",
        "      overtime = hours_worked - 50\n",
        "      overtime_amount = (overtime * (salary / 50))\n",
        "      total_salary = salary + overtime_amount\n",
        "      return total_salary\n",
        "    else:\n",
        "      return salary"
      ],
      "metadata": {
        "id": "MIav9Ow_8YP-"
      },
      "execution_count": 6,
      "outputs": []
    },
    {
      "cell_type": "code",
      "source": [
        "for emp in data():\n",
        "    object_emp = Employe(emp['id'],emp['name'],emp['salary'],emp['department'])\n",
        "    # print(object_emp.emp_id)\n",
        "    # print(object_emp.emp_name)\n",
        "    # print(object_emp.emp_salary)\n",
        "    # print(object_emp.emp_department)\n",
        "    # print(\"\\n\")\n",
        "    print(print_employee_details)"
      ],
      "metadata": {
        "colab": {
          "base_uri": "https://localhost:8080/",
          "height": 211
        },
        "id": "Rc0wglW2CzB7",
        "outputId": "9b1b2b92-3c3e-4e26-bb5c-387c11139a7a"
      },
      "execution_count": 5,
      "outputs": [
        {
          "output_type": "error",
          "ename": "TypeError",
          "evalue": "'list' object is not callable",
          "traceback": [
            "\u001b[0;31m---------------------------------------------------------------------------\u001b[0m",
            "\u001b[0;31mTypeError\u001b[0m                                 Traceback (most recent call last)",
            "\u001b[0;32m<ipython-input-5-743628018ee1>\u001b[0m in \u001b[0;36m<cell line: 1>\u001b[0;34m()\u001b[0m\n\u001b[0;32m----> 1\u001b[0;31m \u001b[0;32mfor\u001b[0m \u001b[0memp\u001b[0m \u001b[0;32min\u001b[0m \u001b[0mdata\u001b[0m\u001b[0;34m(\u001b[0m\u001b[0;34m)\u001b[0m\u001b[0;34m:\u001b[0m\u001b[0;34m\u001b[0m\u001b[0;34m\u001b[0m\u001b[0m\n\u001b[0m\u001b[1;32m      2\u001b[0m     \u001b[0mobject_emp\u001b[0m \u001b[0;34m=\u001b[0m \u001b[0mEmploye\u001b[0m\u001b[0;34m(\u001b[0m\u001b[0memp\u001b[0m\u001b[0;34m[\u001b[0m\u001b[0;34m'id'\u001b[0m\u001b[0;34m]\u001b[0m\u001b[0;34m,\u001b[0m\u001b[0memp\u001b[0m\u001b[0;34m[\u001b[0m\u001b[0;34m'name'\u001b[0m\u001b[0;34m]\u001b[0m\u001b[0;34m,\u001b[0m\u001b[0memp\u001b[0m\u001b[0;34m[\u001b[0m\u001b[0;34m'salary'\u001b[0m\u001b[0;34m]\u001b[0m\u001b[0;34m,\u001b[0m\u001b[0memp\u001b[0m\u001b[0;34m[\u001b[0m\u001b[0;34m'department'\u001b[0m\u001b[0;34m]\u001b[0m\u001b[0;34m)\u001b[0m\u001b[0;34m\u001b[0m\u001b[0;34m\u001b[0m\u001b[0m\n\u001b[1;32m      3\u001b[0m     \u001b[0;31m# print(object_emp.emp_id)\u001b[0m\u001b[0;34m\u001b[0m\u001b[0;34m\u001b[0m\u001b[0m\n\u001b[1;32m      4\u001b[0m     \u001b[0;31m# print(object_emp.emp_name)\u001b[0m\u001b[0;34m\u001b[0m\u001b[0;34m\u001b[0m\u001b[0m\n\u001b[1;32m      5\u001b[0m     \u001b[0;31m# print(object_emp.emp_salary)\u001b[0m\u001b[0;34m\u001b[0m\u001b[0;34m\u001b[0m\u001b[0m\n",
            "\u001b[0;31mTypeError\u001b[0m: 'list' object is not callable"
          ]
        }
      ]
    },
    {
      "cell_type": "code",
      "source": [],
      "metadata": {
        "id": "duimtdQpCx6D"
      },
      "execution_count": null,
      "outputs": []
    }
  ]
}