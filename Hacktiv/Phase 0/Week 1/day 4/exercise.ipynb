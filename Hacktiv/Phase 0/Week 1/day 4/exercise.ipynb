{
 "cells": [
  {
   "cell_type": "markdown",
   "metadata": {},
   "source": [
    "Write a Python class BankAccount with attributes like account_number, balance, date_of_opening and customer_name,and methods like deposit, withdraw, and check_balance."
   ]
  },
  {
   "cell_type": "code",
   "execution_count": null,
   "metadata": {},
   "outputs": [],
   "source": [
    "class BankAccount ():\n",
    "    def __init__ (self,account_number, balance, date_of_opening, customer_name):\n",
    "        self.account_number = account_number\n",
    "        self.balance = balance\n",
    "        self.date_of_opening = date_of_opening\n",
    "        self.customer_name = customer_name\n",
    "\n",
    "    def deposti(self,amount):\n",
    "        self.balance += amount"
   ]
  },
  {
   "cell_type": "code",
   "execution_count": 1,
   "metadata": {},
   "outputs": [],
   "source": [
    "with open(\"unit_test.py\", \"w\") as f:\n",
    "  f.write('''\n",
    "import unittest\n",
    "\n",
    "def add_numbers(a,b):\n",
    "  return a + b\n",
    "\n",
    "class TestAddNumbers(unittest.TestCase):\n",
    "  def test_add_numbers(self):\n",
    "    result = add_numbers(2, 3)\n",
    "    self.assertEqual(result, 5)\n",
    "\n",
    "if __name__ == \"__main__\":\n",
    "  unittest.main()\n",
    "  ''')"
   ]
  }
 ],
 "metadata": {
  "kernelspec": {
   "display_name": "base",
   "language": "python",
   "name": "python3"
  },
  "language_info": {
   "codemirror_mode": {
    "name": "ipython",
    "version": 3
   },
   "file_extension": ".py",
   "mimetype": "text/x-python",
   "name": "python",
   "nbconvert_exporter": "python",
   "pygments_lexer": "ipython3",
   "version": "3.12.4"
  }
 },
 "nbformat": 4,
 "nbformat_minor": 2
}
