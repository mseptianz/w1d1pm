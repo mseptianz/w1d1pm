{
 "cells": [
  {
   "cell_type": "code",
   "execution_count": 3,
   "metadata": {},
   "outputs": [
    {
     "name": "stdout",
     "output_type": "stream",
     "text": [
      "10\n",
      "<class 'int'>\n"
     ]
    }
   ],
   "source": [
    "# cek type data \n",
    "print(10)\n",
    "print(type(10))"
   ]
  },
  {
   "cell_type": "markdown",
   "metadata": {},
   "source": [
    "### Float"
   ]
  },
  {
   "cell_type": "code",
   "execution_count": 4,
   "metadata": {},
   "outputs": [
    {
     "name": "stdout",
     "output_type": "stream",
     "text": [
      "4.2\n",
      "<class 'float'>\n",
      "4.0\n",
      "0.2\n",
      "4000000.0\n",
      "0.00042\n"
     ]
    }
   ],
   "source": [
    "print(4.2)\n",
    "print(type(4.2))\n",
    "\n",
    "print(4.)\n",
    "\n",
    "print(.2)\n",
    "\n",
    "print(.4e7)\n",
    "\n",
    "print(4.2e-4)"
   ]
  },
  {
   "cell_type": "markdown",
   "metadata": {},
   "source": [
    "# Non - grade chalenge"
   ]
  },
  {
   "cell_type": "markdown",
   "metadata": {},
   "source": [
    "Task #1\n",
    "Given list of customer_id that doing transaction in 1 day:\n",
    "\n",
    "customer_id = ['B818', 'A461', 'A092', 'A082', 'B341', 'A005', 'A092', 'A461','B219', 'B904', 'A901', 'A083', 'B904', 'A092', 'B341', 'B821','B341', 'B821', 'B904', 'B818', 'A901', 'A083', 'B818', 'A082','B219', 'B219', 'A083', 'A901', 'A082', 'B341', 'B341', 'A083','A082', 'B219', 'B439', 'A461', 'A005', 'A901', 'B341', 'A082','A083', 'A461', 'A083', 'A901', 'A461', 'A083', 'A082', 'A083','B341', 'A901', 'A082', 'A461', 'B219', 'A083', 'B818', 'B821','A092', 'B341', 'A461', 'A092', 'A083', 'B821', 'A092']\n",
    "\n",
    "\n",
    "How many unique customer_id from above list?4\n"
   ]
  },
  {
   "cell_type": "code",
   "execution_count": 5,
   "metadata": {},
   "outputs": [
    {
     "data": {
      "text/plain": [
       "12"
      ]
     },
     "execution_count": 5,
     "metadata": {},
     "output_type": "execute_result"
    }
   ],
   "source": [
    "customer_id = ['B818', 'A461', 'A092', 'A082', 'B341', 'A005', 'A092', 'A461','B219', 'B904', 'A901', 'A083', 'B904', 'A092', 'B341', 'B821','B341', 'B821', 'B904', 'B818', 'A901', 'A083', 'B818', 'A082','B219', 'B219', 'A083', 'A901', 'A082', 'B341', 'B341', 'A083','A082', 'B219', 'B439', 'A461', 'A005', 'A901', 'B341', 'A082','A083', 'A461', 'A083', 'A901', 'A461', 'A083', 'A082', 'A083','B341', 'A901', 'A082', 'A461', 'B219', 'A083', 'B818', 'B821','A092', 'B341', 'A461', 'A092', 'A083', 'B821', 'A092']\n",
    "\n",
    "\n",
    "len(set(customer_id))\n"
   ]
  },
  {
   "cell_type": "markdown",
   "metadata": {},
   "source": [
    "Task #2\n",
    "Given list of:\n",
    "\n",
    "Data = [1, 4, 9, 16, 25, 36, 49,  64, 81, 100]\n",
    "\n",
    "Use indexing so you can get this output:\n",
    "\n",
    "a.16\n",
    "\n",
    "\n",
    "b.[36, 49, 64, 81]\n",
    "\n",
    "c.[100, 81, 64, 49, 36, 25, 16, 9, 4, 1]5\n"
   ]
  },
  {
   "cell_type": "code",
   "execution_count": 6,
   "metadata": {},
   "outputs": [],
   "source": [
    "Data = [1, 4, 9, 16, 25, 36, 49,  64, 81, 100]"
   ]
  },
  {
   "cell_type": "code",
   "execution_count": 7,
   "metadata": {},
   "outputs": [
    {
     "name": "stdout",
     "output_type": "stream",
     "text": [
      "16\n"
     ]
    }
   ],
   "source": [
    "print(Data[3])"
   ]
  },
  {
   "cell_type": "code",
   "execution_count": 8,
   "metadata": {},
   "outputs": [
    {
     "name": "stdout",
     "output_type": "stream",
     "text": [
      "[36, 49, 64, 81]\n"
     ]
    }
   ],
   "source": [
    "print(Data[5:9])"
   ]
  },
  {
   "cell_type": "code",
   "execution_count": 9,
   "metadata": {},
   "outputs": [
    {
     "name": "stdout",
     "output_type": "stream",
     "text": [
      "[100, 81, 64, 49, 36, 25, 16, 9, 4, 1]\n"
     ]
    }
   ],
   "source": [
    "Data.reverse()\n",
    "print(Data)"
   ]
  },
  {
   "cell_type": "code",
   "execution_count": 10,
   "metadata": {},
   "outputs": [
    {
     "data": {
      "text/plain": [
       "[1, 4, 9, 16, 25, 36, 49, 64, 81, 100]"
      ]
     },
     "execution_count": 10,
     "metadata": {},
     "output_type": "execute_result"
    }
   ],
   "source": [
    "Data[::-1]"
   ]
  },
  {
   "cell_type": "markdown",
   "metadata": {},
   "source": [
    "Task #3\n",
    "\n",
    "Given a dictionary of:\n",
    "\n",
    "provinsi = {'Nanggroe Aceh Darussalam': 'Aceh','Sumatera Selatan': 'Palembang','Kalimantan Barat': 'Pontianak','Jawa Timur': 'Madiun','Sulawesi Selatan': 'Makassar','Maluku': 'Ambon'}\n",
    "\n",
    "What python command can be use to:\n",
    "\n",
    "a.Get list of keys available in dictionary\n",
    "\n",
    "b.Change 'Jawa Timur' value from 'Madiun'  to 'Surabaya'6\n"
   ]
  },
  {
   "cell_type": "code",
   "execution_count": 11,
   "metadata": {},
   "outputs": [],
   "source": [
    "provinsi = {'Nanggroe Aceh Darussalam': 'Aceh','Sumatera Selatan': 'Palembang','Kalimantan Barat': 'Pontianak','Jawa Timur': 'Madiun','Sulawesi Selatan': 'Makassar','Maluku': 'Ambon'}"
   ]
  },
  {
   "cell_type": "code",
   "execution_count": 12,
   "metadata": {},
   "outputs": [
    {
     "name": "stdout",
     "output_type": "stream",
     "text": [
      "dict_keys(['Nanggroe Aceh Darussalam', 'Sumatera Selatan', 'Kalimantan Barat', 'Jawa Timur', 'Sulawesi Selatan', 'Maluku'])\n"
     ]
    }
   ],
   "source": [
    "x = provinsi.keys()\n",
    "print(x)"
   ]
  },
  {
   "cell_type": "code",
   "execution_count": 13,
   "metadata": {},
   "outputs": [
    {
     "data": {
      "text/plain": [
       "{'Nanggroe Aceh Darussalam': 'Aceh',\n",
       " 'Sumatera Selatan': 'Palembang',\n",
       " 'Kalimantan Barat': 'Pontianak',\n",
       " 'Jawa Timur': 'Surabaya',\n",
       " 'Sulawesi Selatan': 'Makassar',\n",
       " 'Maluku': 'Ambon'}"
      ]
     },
     "execution_count": 13,
     "metadata": {},
     "output_type": "execute_result"
    }
   ],
   "source": [
    "provinsi['Jawa Timur'] = 'Surabaya'\n",
    "provinsi"
   ]
  },
  {
   "cell_type": "markdown",
   "metadata": {},
   "source": [
    "# Non-Grade Chalenge 2"
   ]
  },
  {
   "cell_type": "markdown",
   "metadata": {},
   "source": [
    "Task #1 \n",
    " Number of WordCreate a function that count the number of word in a sentence.\n",
    " \n",
    " Instruction:\n",
    " \n",
    " 1.Create function called `number_of_word`.\n",
    " \n",
    " 2.This function takes 1 input, `sentence`.\n",
    " \n",
    " 3.Inside this function, you can utilize `.split()` method to split the sentence into list of word(s).\n",
    " \n",
    " 4.Also, `len()` function to count the element inside a list.5.Return the number of word from the sentence.\n",
    " \n",
    " Example:\n",
    " \n",
    " -Input: number_of_word(sentence = ’Hello World!’)\n",
    " \n",
    " -Output: 2\n",
    " \n",
    " -Input: number_of_word(sentence = ’Once Upon a Time in a faraway land’)\n",
    " \n",
    " -Output: 84\n"
   ]
  },
  {
   "cell_type": "code",
   "execution_count": 22,
   "metadata": {},
   "outputs": [
    {
     "data": {
      "text/plain": [
       "'kalimat anda (hai sayang ku) terdapat 3 kata'"
      ]
     },
     "execution_count": 22,
     "metadata": {},
     "output_type": "execute_result"
    }
   ],
   "source": [
    "def number_of_word():\n",
    "    a = input (\"masukan kalimat anda : \")\n",
    "    split = a.split()\n",
    "    return f\"kalimat anda ({a}) terdapat {len(split)} kata\"\n",
    "\n",
    "number_of_word()"
   ]
  },
  {
   "cell_type": "code",
   "execution_count": 18,
   "metadata": {},
   "outputs": [
    {
     "data": {
      "text/plain": [
       "[5, 10, 15, 20]"
      ]
     },
     "execution_count": 18,
     "metadata": {},
     "output_type": "execute_result"
    }
   ],
   "source": [
    "def find_multiples():\n",
    "    start_range = int(input(\"Masukan angka awal :\"))\n",
    "    end_range = int(input(\"Masukan angka akhir : \"))\n",
    "    multiple = int(input(\"Masukan jumlah multiple:\"))\n",
    "    \n",
    "    x = []\n",
    "    for a in range (start_range, end_range+1):\n",
    "        if a % multiple == 0 :\n",
    "            x.append(a)\n",
    "    return x\n",
    "         \n",
    "find_multiples()"
   ]
  },
  {
   "cell_type": "code",
   "execution_count": 7,
   "metadata": {},
   "outputs": [],
   "source": [
    "def cetak_angka_genap (daftar_angka):\n",
    "    angka_genap = []\n",
    "    for i in daftar_angka:\n",
    "        if i != 0:\n",
    "            if i % 2 == 0:\n",
    "                angka_genap.append(i)\n",
    "    print(angka_genap)\n"
   ]
  },
  {
   "cell_type": "code",
   "execution_count": 8,
   "metadata": {},
   "outputs": [
    {
     "name": "stdout",
     "output_type": "stream",
     "text": [
      "[2, 4, 6, 8]\n"
     ]
    }
   ],
   "source": [
    "cetak_angka_genap([1,2,3,4,5,6,7,8,9])"
   ]
  },
  {
   "cell_type": "code",
   "execution_count": 6,
   "metadata": {},
   "outputs": [
    {
     "ename": "TypeError",
     "evalue": "'>=' not supported between instances of 'list' and 'int'",
     "output_type": "error",
     "traceback": [
      "\u001b[1;31m---------------------------------------------------------------------------\u001b[0m",
      "\u001b[1;31mTypeError\u001b[0m                                 Traceback (most recent call last)",
      "Cell \u001b[1;32mIn[6], line 37\u001b[0m\n\u001b[0;32m     35\u001b[0m     \u001b[38;5;28;01melse\u001b[39;00m:\n\u001b[0;32m     36\u001b[0m         \u001b[38;5;28mprint\u001b[39m(\u001b[38;5;124m\"\u001b[39m\u001b[38;5;124mTidak bisa mengconvert nilai\u001b[39m\u001b[38;5;124m\"\u001b[39m)\n\u001b[1;32m---> 37\u001b[0m convert_nilai(\u001b[38;5;124m'\u001b[39m\u001b[38;5;124mgpa\u001b[39m\u001b[38;5;124m'\u001b[39m, yanto \u001b[38;5;241m=\u001b[39m \u001b[38;5;241m90\u001b[39m)\n",
      "Cell \u001b[1;32mIn[6], line 5\u001b[0m, in \u001b[0;36mconvert_nilai\u001b[1;34m(convert_to, **nama)\u001b[0m\n\u001b[0;32m      3\u001b[0m daftar_nilai \u001b[38;5;241m=\u001b[39m \u001b[38;5;28mlist\u001b[39m(nama\u001b[38;5;241m.\u001b[39mvalues())  \n\u001b[0;32m      4\u001b[0m \u001b[38;5;28;01mif\u001b[39;00m convert_to \u001b[38;5;241m==\u001b[39m \u001b[38;5;124m'\u001b[39m\u001b[38;5;124mgpa\u001b[39m\u001b[38;5;124m'\u001b[39m:\n\u001b[1;32m----> 5\u001b[0m    \u001b[38;5;28;01mif\u001b[39;00m daftar_nilai \u001b[38;5;241m>\u001b[39m\u001b[38;5;241m=\u001b[39m \u001b[38;5;241m85\u001b[39m \u001b[38;5;129;01mand\u001b[39;00m daftar_nilai \u001b[38;5;241m<\u001b[39m\u001b[38;5;241m=\u001b[39m\u001b[38;5;241m100\u001b[39m:\n\u001b[0;32m      6\u001b[0m        daftar_nilai \u001b[38;5;241m=\u001b[39m \u001b[38;5;241m4\u001b[39m \n\u001b[0;32m      7\u001b[0m    \u001b[38;5;28;01melif\u001b[39;00m daftar_nilai \u001b[38;5;241m<\u001b[39m \u001b[38;5;241m85\u001b[39m \u001b[38;5;129;01mand\u001b[39;00m daftar_nilai \u001b[38;5;241m>\u001b[39m\u001b[38;5;241m=\u001b[39m \u001b[38;5;241m70\u001b[39m:\n",
      "\u001b[1;31mTypeError\u001b[0m: '>=' not supported between instances of 'list' and 'int'"
     ]
    }
   ],
   "source": [
    "def convert_nilai (convert_to,**nama):\n",
    "    daftar_nama = list(nama.keys())  \n",
    "    daftar_nilai = list(nama.values())  \n",
    "    if convert_to == 'gpa':\n",
    "       if daftar_nilai >= 85 and daftar_nilai <=100:\n",
    "           daftar_nilai = 4 \n",
    "       elif daftar_nilai < 85 and daftar_nilai >= 70:\n",
    "           daftar_nilai = 3\n",
    "       elif daftar_nilai < 70 and daftar_nilai >= 60:\n",
    "           daftar_nilai = 2.5\n",
    "       elif daftar_nilai < 60 and daftar_nilai >= 50:\n",
    "           daftar_nilai = 2\n",
    "       elif daftar_nilai < 50 and daftar_nilai >= 40:\n",
    "           daftar_nilai = 1.5\n",
    "       elif daftar_nilai < 40:\n",
    "           daftar_nilai = 1\n",
    "       return daftar_nilai\n",
    "\n",
    "\n",
    "    elif convert_to == 'Letter_grade':\n",
    "       if daftar_nilai >= 85 and daftar_nilai <=100:\n",
    "           daftar_nilai = 'A' \n",
    "       elif daftar_nilai < 85 and daftar_nilai >= 70:\n",
    "           daftar_nilai = 'B'\n",
    "       elif daftar_nilai < 70 and daftar_nilai >= 60:\n",
    "           daftar_nilai = 'C'\n",
    "       elif daftar_nilai < 60 and daftar_nilai >= 50:\n",
    "           daftar_nilai = 'D'\n",
    "       elif daftar_nilai < 50 and daftar_nilai >= 40:\n",
    "           daftar_nilai = 'E'\n",
    "       elif daftar_nilai < 40:\n",
    "           daftar_nilai = 'F'\n",
    "       return daftar_nilai\n",
    "\n",
    "    else:\n",
    "        print(\"Tidak bisa mengconvert nilai\")\n",
    "convert_nilai(convert_to='gpa', yanto = 90,)\n"
   ]
  },
  {
   "cell_type": "code",
   "execution_count": 2,
   "metadata": {},
   "outputs": [
    {
     "ename": "TypeError",
     "evalue": "convert_nilai() got an unexpected keyword argument 'orang'",
     "output_type": "error",
     "traceback": [
      "\u001b[1;31m---------------------------------------------------------------------------\u001b[0m",
      "\u001b[1;31mTypeError\u001b[0m                                 Traceback (most recent call last)",
      "Cell \u001b[1;32mIn[2], line 38\u001b[0m\n\u001b[0;32m     33\u001b[0m         \u001b[38;5;28mprint\u001b[39m(\u001b[38;5;124m\"\u001b[39m\u001b[38;5;124mTidak bisa mengconvert nilai\u001b[39m\u001b[38;5;124m\"\u001b[39m)\n\u001b[0;32m     35\u001b[0m \u001b[38;5;66;03m# convert_to = input(\"convert nilai to GPA / letter_grade ?\")\u001b[39;00m\n\u001b[0;32m     36\u001b[0m \u001b[38;5;66;03m# nama = input(\"Masukan nama : \") \u001b[39;00m\n\u001b[0;32m     37\u001b[0m \u001b[38;5;66;03m# nilai = int(input(\"masukan nilai : \"))\u001b[39;00m\n\u001b[1;32m---> 38\u001b[0m convert_nilai(convert_to \u001b[38;5;241m=\u001b[39m \u001b[38;5;124m'\u001b[39m\u001b[38;5;124mgpa\u001b[39m\u001b[38;5;124m'\u001b[39m,orang\u001b[38;5;241m=\u001b[39m \u001b[38;5;241m90\u001b[39m ,nilai\u001b[38;5;241m=\u001b[39m\u001b[38;5;241m90\u001b[39m)\n",
      "\u001b[1;31mTypeError\u001b[0m: convert_nilai() got an unexpected keyword argument 'orang'"
     ]
    }
   ],
   "source": [
    "def convert_nilai (convert_to,nama,nilai):\n",
    "    if convert_to == 'gpa':\n",
    "       if nilai >= 85 and nilai <=100:\n",
    "           nilai = 4 \n",
    "       elif nilai < 85 and nilai >= 70:\n",
    "           nilai = 3\n",
    "       elif nilai < 70 and nilai >= 60:\n",
    "           nilai = 2.5\n",
    "       elif nilai < 60 and nilai >= 50:\n",
    "           nilai = 2\n",
    "       elif nilai < 50 and nilai >= 40:\n",
    "           nilai = 1.5\n",
    "       elif nilai < 40:\n",
    "           nilai = 1\n",
    "       return f\"{nama} mendapat nilai {nilai}\"\n",
    "\n",
    "    elif convert_to == 'Letter_grade':\n",
    "       if nilai >= 85 and nilai <=100:\n",
    "           nilai = 'A' \n",
    "       elif nilai < 85 and nilai >= 70:\n",
    "           nilai = 'B'\n",
    "       elif nilai < 70 and nilai >= 60:\n",
    "           nilai = 'C'\n",
    "       elif nilai < 60 and nilai >= 50:\n",
    "           nilai = 'D'\n",
    "       elif nilai < 50 and nilai >= 40:\n",
    "           nilai = 'E'\n",
    "       elif nilai < 40:\n",
    "           nilai = 'F'\n",
    "       return f\"{nama} mendapat nilai {nilai}\"\n",
    "\n",
    "    else:\n",
    "        print(\"Tidak bisa mengconvert nilai\")\n",
    "\n",
    "# convert_to = input(\"convert nilai to GPA / letter_grade ?\")\n",
    "# nama = input(\"Masukan nama : \") \n",
    "# nilai = int(input(\"masukan nilai : \"))\n",
    "convert_nilai(convert_to = 'gpa',orang= 90 ,nilai=90)"
   ]
  },
  {
   "cell_type": "code",
   "execution_count": 4,
   "metadata": {},
   "outputs": [
    {
     "ename": "TypeError",
     "evalue": "'>=' not supported between instances of 'list' and 'int'",
     "output_type": "error",
     "traceback": [
      "\u001b[1;31m---------------------------------------------------------------------------\u001b[0m",
      "\u001b[1;31mTypeError\u001b[0m                                 Traceback (most recent call last)",
      "Cell \u001b[1;32mIn[4], line 1\u001b[0m\n\u001b[1;32m----> 1\u001b[0m convert_nilai(convert_to \u001b[38;5;241m=\u001b[39m \u001b[38;5;124m'\u001b[39m\u001b[38;5;124mgpa\u001b[39m\u001b[38;5;124m'\u001b[39m)\n",
      "Cell \u001b[1;32mIn[2], line 5\u001b[0m, in \u001b[0;36mconvert_nilai\u001b[1;34m(convert_to, **nama)\u001b[0m\n\u001b[0;32m      3\u001b[0m daftar_nilai \u001b[38;5;241m=\u001b[39m \u001b[38;5;28mlist\u001b[39m(nama\u001b[38;5;241m.\u001b[39mvalues())  \n\u001b[0;32m      4\u001b[0m \u001b[38;5;28;01mif\u001b[39;00m convert_to \u001b[38;5;241m==\u001b[39m \u001b[38;5;124m'\u001b[39m\u001b[38;5;124mgpa\u001b[39m\u001b[38;5;124m'\u001b[39m:\n\u001b[1;32m----> 5\u001b[0m    \u001b[38;5;28;01mif\u001b[39;00m daftar_nilai \u001b[38;5;241m>\u001b[39m\u001b[38;5;241m=\u001b[39m \u001b[38;5;241m85\u001b[39m \u001b[38;5;129;01mand\u001b[39;00m daftar_nilai \u001b[38;5;241m<\u001b[39m\u001b[38;5;241m=\u001b[39m\u001b[38;5;241m100\u001b[39m:\n\u001b[0;32m      6\u001b[0m        daftar_nilai \u001b[38;5;241m=\u001b[39m \u001b[38;5;241m4\u001b[39m \n\u001b[0;32m      7\u001b[0m    \u001b[38;5;28;01melif\u001b[39;00m daftar_nilai \u001b[38;5;241m<\u001b[39m \u001b[38;5;241m85\u001b[39m \u001b[38;5;129;01mand\u001b[39;00m daftar_nilai \u001b[38;5;241m>\u001b[39m\u001b[38;5;241m=\u001b[39m \u001b[38;5;241m70\u001b[39m:\n",
      "\u001b[1;31mTypeError\u001b[0m: '>=' not supported between instances of 'list' and 'int'"
     ]
    }
   ],
   "source": [
    "convert_nilai(convert_to = 'gpa')"
   ]
  },
  {
   "cell_type": "code",
   "execution_count": 1,
   "metadata": {},
   "outputs": [
    {
     "name": "stdout",
     "output_type": "stream",
     "text": [
      "4\n"
     ]
    }
   ],
   "source": [
    "\n",
    "daftar_nilai = 90\n",
    "if daftar_nilai >= 85 and daftar_nilai <=100:\n",
    "           daftar_nilai = 4 \n",
    "           print(daftar_nilai)"
   ]
  },
  {
   "cell_type": "markdown",
   "metadata": {},
   "source": [
    "def convert_nilai(convert_to, **nama):\n",
    "    # Menginisialisasi hasil konversi\n",
    "    hasil_konversi = {}\n",
    "    \n",
    "    for nama_mahasiswa, nilai in nama.items():\n",
    "        if convert_to == 'gpa':\n",
    "            if 85 <= nilai <= 100:\n",
    "                gpa = 4\n",
    "            elif 70 <= nilai < 85:\n",
    "                gpa = 3\n",
    "            elif 60 <= nilai < 70:\n",
    "                gpa = 2.5\n",
    "            elif 50 <= nilai < 60:\n",
    "                gpa = 2\n",
    "            elif 40 <= nilai < 50:\n",
    "                gpa = 1.5\n",
    "            else:\n",
    "                gpa = 1\n",
    "            hasil_konversi[nama_mahasiswa] = gpa\n",
    "        \n",
    "        elif convert_to == 'Letter_grade':\n",
    "            if 85 <= nilai <= 100:\n",
    "                letter_grade = 'A'\n",
    "            elif 70 <= nilai < 85:\n",
    "                letter_grade = 'B'\n",
    "            elif 60 <= nilai < 70:\n",
    "                letter_grade = 'C'\n",
    "            elif 50 <= nilai < 60:\n",
    "                letter_grade = 'D'\n",
    "            elif 40 <= nilai < 50:\n",
    "                letter_grade = 'E'\n",
    "            else:\n",
    "                letter_grade = 'F'\n",
    "            hasil_konversi[nama_mahasiswa] = letter_grade\n",
    "        \n",
    "        else:\n",
    "            print(\"Tidak bisa mengconvert nilai untuk jenis yang diberikan\")\n",
    "            return None\n",
    "\n",
    "    return hasil_konversi\n",
    "\n",
    "# Contoh penggunaan\n",
    "print(convert_nilai('gpa', yanto=90, budi=65))\n",
    "print(convert_nilai('Letter_grade', yanto=90, budi=65))\n"
   ]
  },
  {
   "cell_type": "code",
   "execution_count": null,
   "metadata": {},
   "outputs": [],
   "source": []
  }
 ],
 "metadata": {
  "kernelspec": {
   "display_name": "base",
   "language": "python",
   "name": "python3"
  },
  "language_info": {
   "codemirror_mode": {
    "name": "ipython",
    "version": 3
   },
   "file_extension": ".py",
   "mimetype": "text/x-python",
   "name": "python",
   "nbconvert_exporter": "python",
   "pygments_lexer": "ipython3",
   "version": "3.12.4"
  }
 },
 "nbformat": 4,
 "nbformat_minor": 2
}
