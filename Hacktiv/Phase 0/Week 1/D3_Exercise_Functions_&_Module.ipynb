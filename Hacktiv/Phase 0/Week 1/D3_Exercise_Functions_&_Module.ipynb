{
  "cells": [
    {
      "cell_type": "markdown",
      "metadata": {
        "id": "L3KnF6F_IOwh"
      },
      "source": [
        "# Exercise - P0W1D3PM : Functions & Modules"
      ]
    },
    {
      "cell_type": "markdown",
      "metadata": {
        "id": "AgvBtWH2sWDT"
      },
      "source": [
        "---\n",
        "## A. Section 1 : Sintaks Dasar"
      ]
    },
    {
      "cell_type": "markdown",
      "metadata": {
        "id": "E78AeNtUsZYt"
      },
      "source": [
        "**NOMOR 1**\n",
        "\n",
        "Buatlah sebuah function untuk menampilkan pesan :\n",
        "```\n",
        "Halo.\n",
        "Selamat datang di Hacktiv8.\n",
        "Selamat mempelajari materi mengenai Data Science.\n",
        "```"
      ]
    },
    {
      "cell_type": "code",
      "execution_count": 1,
      "metadata": {
        "colab": {
          "base_uri": "https://localhost:8080/"
        },
        "id": "Rv9sH6uB6v06",
        "outputId": "501eb1dc-7d4b-480d-bf1a-3ac4e57b4d54"
      },
      "outputs": [
        {
          "name": "stdout",
          "output_type": "stream",
          "text": [
            "Halo.\n",
            "Selamat datang di Hacktiv8.\n",
            "Selamat mempelajari materi mengenai Data Science.\n"
          ]
        }
      ],
      "source": [
        "# Tanpa function\n",
        "\n",
        "print('Halo.')\n",
        "print('Selamat datang di Hacktiv8.')\n",
        "print('Selamat mempelajari materi mengenai Data Science.')"
      ]
    },
    {
      "cell_type": "code",
      "execution_count": 2,
      "metadata": {
        "colab": {
          "base_uri": "https://localhost:8080/"
        },
        "id": "wuKqvmpc69ye",
        "outputId": "1cdf8d42-4b0e-41fe-c648-e80dc5ab7d9b"
      },
      "outputs": [
        {
          "data": {
            "text/plain": [
              "Ellipsis"
            ]
          },
          "execution_count": 2,
          "metadata": {},
          "output_type": "execute_result"
        }
      ],
      "source": [
        "# Dengan function\n",
        "\n",
        "# Code in here\n",
        "...\n",
        "\n",
        "# Pemanggilan function\n",
        "\n",
        "# Code in here\n",
        "..."
      ]
    },
    {
      "cell_type": "markdown",
      "metadata": {
        "id": "KD9SBZu6IWat"
      },
      "source": [
        "---\n",
        "## B. Section 2 : Required/Keyword Argument"
      ]
    },
    {
      "cell_type": "markdown",
      "metadata": {
        "id": "a-eVzSH6s-8W"
      },
      "source": [
        "**NOMOR 2**\n",
        "\n",
        "Buatlah sebuah function untuk menampilkan ucapan selamat datang beserta nama user.\n",
        "  * Input : `nama` | Nama user |  str\n",
        "  * Output : Teks yang bertuliskan `Halo. Selamat datang <nama>`.\n",
        "\n",
        "| Input | Output |\n",
        "| - | - |\n",
        "| nama = bono | Halo. Selamat datang bono. |\n",
        "| nama = Lolo | Halo. Selamat datang Lolo. |\n",
        "| nama = BRYAN | Halo. Selamat datang BRYAN. |"
      ]
    },
    {
      "cell_type": "code",
      "execution_count": 29,
      "metadata": {
        "colab": {
          "base_uri": "https://localhost:8080/"
        },
        "id": "Mawajjls8lvY",
        "outputId": "0e462ee1-7b24-434e-f2c9-a9062ed5b155"
      },
      "outputs": [
        {
          "name": "stdout",
          "output_type": "stream",
          "text": [
            "halo selamat datang dea\n",
            "halo selamat datangdea\n",
            "halo selamat datangdea\n"
          ]
        },
        {
          "data": {
            "text/plain": [
              "<function __main__.ucapan(nama)>"
            ]
          },
          "execution_count": 29,
          "metadata": {},
          "output_type": "execute_result"
        }
      ],
      "source": [
        "#membuat function ucapan \n",
        "\n",
        "def ucapan(nama):\n",
        "    '''\n",
        "    Fungsi dari function ini untuk menampilkan ucapan selamat datang.\n",
        "\n",
        "    Argumen : \n",
        "    nama = nama yang ingin dipanggil dan ditulis dalam bentuk string \n",
        "\n",
        "    contoh penggunaan : \n",
        "    ucapan('Bono')\n",
        "    \n",
        "    \n",
        "    \n",
        "    \n",
        "    '''\n",
        "    print(\"halo selamat datang\",nama)\n",
        "    print(f\"halo selamat datang {nama}\")\n",
        "    print(\"halo selamat datang {}\".format(nama))\n",
        "\n",
        "ucapan('dea')\n",
        "ucapan"
      ]
    },
    {
      "cell_type": "code",
      "execution_count": 26,
      "metadata": {},
      "outputs": [
        {
          "data": {
            "text/plain": [
              "'\\n    Fungsi dari function ini untuk menampilkan ucapan selamat datang.\\n\\n    Argumen : \\n    nama = nama yang ingin dipanggil \\n    \\n    \\n    \\n    \\n    '"
            ]
          },
          "execution_count": 26,
          "metadata": {},
          "output_type": "execute_result"
        }
      ],
      "source": [
        "#menampilkan pesan docstring function\n",
        "\n",
        "ucapan.__doc__"
      ]
    },
    {
      "cell_type": "code",
      "execution_count": 4,
      "metadata": {
        "colab": {
          "base_uri": "https://localhost:8080/",
          "height": 218
        },
        "id": "mUenG4iZ9HCf",
        "outputId": "8c480fa3-fe86-463a-b12e-b3e7f214d695"
      },
      "outputs": [],
      "source": [
        "# Pemanggilan tanpa ada argument -> Program akan error\n",
        "\n",
        "# Tulis nama function tanpa argumen"
      ]
    },
    {
      "cell_type": "markdown",
      "metadata": {
        "id": "SABgqKWrp27J"
      },
      "source": [
        "**NOMOR 3**\n",
        "\n",
        "Buatlah sebuah function untuk menampilkan tanda plus (`+`) sebanyak\n",
        "`n`.\n",
        "  * Input : `n` | Jumlah tanda plus (`+`) yang diinginkan | int\n",
        "  * Output : Jumlah tanda plus yang ditampilkan\n",
        "\n",
        "| Input | Output |\n",
        "| - | - |\n",
        "| n = 1 | + |\n",
        "| n = 3 | + <br /> + <br /> + |\n",
        "| n = 5 | + <br /> + <br /> + <br /> + <br /> + |\n",
        "| n = 0 | Tampilkan pesan `Input salah` |\n",
        "| n = -1 | Tampilkan pesan `Input salah` |\n",
        "\n",
        "*Input user haruslah bernilai positif. Jika input user <= 0, maka tampilkan pesan `Input salah`*\n"
      ]
    },
    {
      "cell_type": "code",
      "execution_count": 5,
      "metadata": {
        "colab": {
          "base_uri": "https://localhost:8080/"
        },
        "id": "OjHRkMdc9wFR",
        "outputId": "19b572fd-248b-4d41-dd6d-27c7b4b25b7d"
      },
      "outputs": [],
      "source": [
        "# Code in here\n",
        "for i in range (2):\n",
        "    print(\"+\")\n",
        "\n",
        "# Pemanggilan jika n=3\n",
        "# Code in here\n",
        "..."
      ]
    },
    {
      "cell_type": "code",
      "execution_count": 6,
      "metadata": {
        "colab": {
          "base_uri": "https://localhost:8080/"
        },
        "id": "CGLXocID-EsJ",
        "outputId": "ca56b638-c612-46ee-b818-be41b6739618"
      },
      "outputs": [
        {
          "data": {
            "text/plain": [
              "Ellipsis"
            ]
          },
          "execution_count": 6,
          "metadata": {},
          "output_type": "execute_result"
        }
      ],
      "source": [
        "# Pemanggilan jika n=-1\n",
        "# Code in here\n",
        "..."
      ]
    },
    {
      "cell_type": "code",
      "execution_count": 7,
      "metadata": {
        "colab": {
          "base_uri": "https://localhost:8080/",
          "height": 218
        },
        "id": "Mx27Ecr--KkU",
        "outputId": "301391e0-64ca-4395-b70c-0747976e619d"
      },
      "outputs": [],
      "source": [
        "# Pemanggilan tanpa adanya argument\n",
        "\n",
        "# Tulis nama function tanpa argumen"
      ]
    },
    {
      "cell_type": "markdown",
      "metadata": {
        "id": "jz00PX1Sp6_S"
      },
      "source": [
        "---\n",
        "## C. Section 3 : Default Argument"
      ]
    },
    {
      "cell_type": "markdown",
      "metadata": {
        "id": "3wEoWefTIg9a"
      },
      "source": [
        "**NOMOR 4**\n",
        "\n",
        "Buatlah sebuah function untuk menampilkan `nama` dan `negara`. Jika tidak ada value pada parameter `negara`, isi dengan `Indonesia`.\n",
        "  * Input : `nama` | str\n",
        "  * Input : `negara` | str\n",
        "\n",
        "| No | Input | Output |\n",
        "| - | - | - |\n",
        "| 1 | nama = Frank <br /> <br /> negara = USA| \"Halo Frank dari USA\" |\n",
        "| 2 | nama = Smith <br /> <br /> negara = Jerman| \"Halo Smith dari Jerman\" |\n",
        "| 3 | nama = Anton | \"Halo Anton dari Indonesia\" |\n",
        "| 4 | negara = Singapura | *--Program Error--* |"
      ]
    },
    {
      "cell_type": "code",
      "execution_count": 8,
      "metadata": {
        "colab": {
          "base_uri": "https://localhost:8080/"
        },
        "id": "OUDsuc2C-qb-",
        "outputId": "dadc55ca-230a-463c-9ea8-0fb1e9e7f763"
      },
      "outputs": [],
      "source": [
        "# Code in here\n",
        "..."
      ]
    },
    {
      "cell_type": "code",
      "execution_count": 9,
      "metadata": {
        "colab": {
          "base_uri": "https://localhost:8080/"
        },
        "id": "B6CTuThS_9GV",
        "outputId": "70566f0f-9302-49f5-d623-27dc0f2d73e8"
      },
      "outputs": [
        {
          "data": {
            "text/plain": [
              "Ellipsis"
            ]
          },
          "execution_count": 9,
          "metadata": {},
          "output_type": "execute_result"
        }
      ],
      "source": [
        "# Coba pemanggilan dengan urutan argumen yang benar, urutan salah, assign nama argumen = argumen\n",
        "# Code in here\n",
        "..."
      ]
    },
    {
      "cell_type": "code",
      "execution_count": 10,
      "metadata": {
        "colab": {
          "base_uri": "https://localhost:8080/",
          "height": 181
        },
        "id": "xe2PX3KcAj5r",
        "outputId": "3d94a62b-db60-4d41-c9e3-7b32744daa77"
      },
      "outputs": [
        {
          "data": {
            "text/plain": [
              "Ellipsis"
            ]
          },
          "execution_count": 10,
          "metadata": {},
          "output_type": "execute_result"
        }
      ],
      "source": [
        "# Pemanggilan tanpa argument `nama` -> Program error\n",
        "\n",
        "# Code in here\n",
        "..."
      ]
    },
    {
      "cell_type": "markdown",
      "metadata": {
        "id": "QyZsdFCAwaMP"
      },
      "source": [
        "**NOMOR 4 (Return Statement)**\n",
        "\n",
        "Buatlah sebuah function untuk menampilkan panggilan nama berdasarkan gendernya.\n",
        "  * Input : `gender` | str |\n",
        "    + `gender` yang dipakai hanya `pria` atau `wanita`\n",
        "    + Jika `gender=pria` maka tambahkan kata `Bapak` sebelum `nama`\n",
        "    + Jika `gender=wanita` maka tambahkan kata `Ibu` sebelum `nama`\n",
        "  * Input : `nama` | str | Default : `user`\n",
        "\n",
        "*Anda dilarang menggunakan statement `print` didalam function. Gunakan statement `print` diluar function.*\n",
        "\n",
        "| No | Input | Output |\n",
        "| - | - | - |\n",
        "| 1 | gender = pria <br /> <br /> nama = danu | \"Bapak danu\" |\n",
        "| 2 | gender = wanita <br /> <br /> nama = WIDYA | \"Ibu WIDYA\" |\n",
        "| 3 | gender = pria | \"Bapak user\" |\n",
        "| 4 | nama = bambang | *--Program Error--* |\n"
      ]
    },
    {
      "cell_type": "code",
      "execution_count": 11,
      "metadata": {},
      "outputs": [],
      "source": [
        "# Code in here\n",
        "..."
      ]
    },
    {
      "cell_type": "code",
      "execution_count": 12,
      "metadata": {
        "colab": {
          "base_uri": "https://localhost:8080/"
        },
        "id": "IpGo9eDABGF9",
        "outputId": "2c282e39-0274-4cde-ffe9-cdd743103871"
      },
      "outputs": [],
      "source": [
        "# Code in here\n",
        "..."
      ]
    },
    {
      "cell_type": "code",
      "execution_count": 13,
      "metadata": {},
      "outputs": [
        {
          "data": {
            "text/plain": [
              "Ellipsis"
            ]
          },
          "execution_count": 13,
          "metadata": {},
          "output_type": "execute_result"
        }
      ],
      "source": [
        "# Dengan disimpan dalam suatu instance/variabel\n",
        "# Code in here\n",
        "..."
      ]
    },
    {
      "cell_type": "code",
      "execution_count": 14,
      "metadata": {},
      "outputs": [
        {
          "data": {
            "text/plain": [
              "Ellipsis"
            ]
          },
          "execution_count": 14,
          "metadata": {},
          "output_type": "execute_result"
        }
      ],
      "source": [
        "# Tanpa instance/variabel\n",
        "# Code in here\n",
        "..."
      ]
    },
    {
      "cell_type": "code",
      "execution_count": 15,
      "metadata": {
        "colab": {
          "base_uri": "https://localhost:8080/",
          "height": 200
        },
        "id": "5tRKJQd_DXmX",
        "outputId": "6beedc86-f139-4ba0-e1a6-90c2aef599a3"
      },
      "outputs": [
        {
          "data": {
            "text/plain": [
              "Ellipsis"
            ]
          },
          "execution_count": 15,
          "metadata": {},
          "output_type": "execute_result"
        }
      ],
      "source": [
        "# Pemanggilan tanpa `gender` -> Program error\n",
        "\n",
        "# Code in here\n",
        "..."
      ]
    },
    {
      "cell_type": "markdown",
      "metadata": {
        "id": "318TQDqvcHKR"
      },
      "source": [
        "**NOMOR 5**\n",
        "\n",
        "Buatlah sebuah function untuk me-return luas dari dua angka yang dimasukkan berdasarkan jenis bidangnya.\n",
        "  * Jika hanya 1 angka yang dimasukkan, maka diasumsikan angka tersebut akan digunakan untuk panjang-dan-lebar atau alas-dan-tinggi.\n",
        "  * Input : `mode` : jenis bidang (segitiga/persegi) | str\n",
        "    - `mode = segitiga`\n",
        "    - `mode = persegi`\n",
        "  * Input : `bilangan_1` : bilangan ke-1 | int\n",
        "  * Input : `bilangan_2` : bilangan ke-2 | int\n",
        "  * Jika tidak ada bilangan yang dimasukkan, maka tampilkan pesan **\"Input harus ada angka\"**.\n",
        "  * Jika bilangan_1 tidak dimasukkan dan hanya ada bilangan_2, maka tampilkan pesan **\"Input harus ada bilangan_1\"**.\n",
        "\n",
        "  > *Rumus luas persegi = bilangan_1 (panjang) * bilangan_2 (lebar)*\n",
        "  >\n",
        "  > *Rumus luas segitiga = bilangan_1 (alas) * bilangan_2 (tinggi) / 2*\n",
        "\n",
        "---\n",
        "Asumsi :\n",
        "* Angka yang dimasukkan maksimal 2 angka.\n",
        "* Angka yang dimasukkan hanyalah angka yang lebih besar dari 0.\n",
        "\n",
        "*Hint : Gunakan konsep bahwa sisi bidang tidak mungkin bernilai 0.*\n",
        "\n",
        "\n",
        "| No | Input | Output |\n",
        "| - | - | - |\n",
        "| 1 | mode = persegi, <br /> <br /> bilangan_1 = 10, <br /> <br /> bilangan_2 = 20 | 200 |\n",
        "| 2 | mode = segitiga, <br /> <br /> bilangan_1 = 10, <br /> <br /> bilangan_2 = 20 | 100 |\n",
        "| 3 | mode = persegi | \"Input kurang angka\" |\n",
        "| 4 | mode = persegi, <br /> <br /> bilangan_1 = 8 | 64 |\n",
        "| 5 | mode = persegi, <br /> <br /> bilangan_2 = 8 | \"Input harus ada bilangan_1\" |\n",
        "| 6 | bilangan_1 = 10, <br /> <br /> bilangan_2 = 20 | *-Program Error-* |"
      ]
    },
    {
      "cell_type": "code",
      "execution_count": 16,
      "metadata": {
        "colab": {
          "base_uri": "https://localhost:8080/"
        },
        "id": "7jvqqjNLEKjb",
        "outputId": "bd1515d7-22c1-443a-f758-2cf19f151b47"
      },
      "outputs": [],
      "source": [
        "# Code in here\n",
        "..."
      ]
    },
    {
      "cell_type": "code",
      "execution_count": 17,
      "metadata": {},
      "outputs": [],
      "source": [
        "# Code in here\n",
        "..."
      ]
    },
    {
      "cell_type": "code",
      "execution_count": 18,
      "metadata": {
        "colab": {
          "base_uri": "https://localhost:8080/",
          "height": 181
        },
        "id": "cNDjOGZzF4N5",
        "outputId": "0ecd75c4-0434-47e9-e26d-461500078ec2"
      },
      "outputs": [
        {
          "data": {
            "text/plain": [
              "Ellipsis"
            ]
          },
          "execution_count": 18,
          "metadata": {},
          "output_type": "execute_result"
        }
      ],
      "source": [
        "# Pemanggilan tanpa `mode` -> Program error\n",
        "\n",
        "# Code in here\n",
        "..."
      ]
    },
    {
      "cell_type": "markdown",
      "metadata": {
        "id": "382AEd81qiuI"
      },
      "source": [
        "---\n",
        "## D. Section 4 : Variable-Length Argument"
      ]
    },
    {
      "cell_type": "markdown",
      "metadata": {
        "id": "gy1BSwZQlhyd"
      },
      "source": [
        "**NOMOR 6 (* Statement)**\n",
        "\n",
        "Buatlah sebuah function untuk :\n",
        "  * Mereturn angka disuatu posisi berdasarkan bilangan pertama dari sebuah daftar angka-angka.\n",
        "  * Urutan posisi dimulai dari bilangan kedua.\n",
        "  * Jika bilangan pertama melebihi jumlah banyaknya daftar angka-angka, maka return **-1**.\n",
        "  * Input : daftar angka\n",
        "\n",
        "| No | Input | Output |\n",
        "| - | - | - |\n",
        "| 1 | (3, 10, 20, 30, 40) | 40 |\n",
        "| 2 | (0, -10, 10)| -10 |\n",
        "| 3 | (1, 2, 300, 10) | 300 |\n",
        "| 4 | (100, 200, 300, -400) | -1 |\n",
        "| 5 | (4, 200, 300, -400) | -1 |"
      ]
    },
    {
      "cell_type": "code",
      "execution_count": 19,
      "metadata": {
        "colab": {
          "base_uri": "https://localhost:8080/"
        },
        "id": "AClP-JAXKDWj",
        "outputId": "1eaa42be-0d21-4b7c-e021-4b8e8847527b"
      },
      "outputs": [
        {
          "data": {
            "text/plain": [
              "Ellipsis"
            ]
          },
          "execution_count": 19,
          "metadata": {},
          "output_type": "execute_result"
        }
      ],
      "source": [
        "# Cara 1\n",
        "# Code in here\n",
        "..."
      ]
    },
    {
      "cell_type": "code",
      "execution_count": 20,
      "metadata": {
        "colab": {
          "base_uri": "https://localhost:8080/"
        },
        "id": "nNqrwdvHHGKy",
        "outputId": "324d6add-fde7-4aaf-ac82-d20c08332ea9"
      },
      "outputs": [
        {
          "data": {
            "text/plain": [
              "Ellipsis"
            ]
          },
          "execution_count": 20,
          "metadata": {},
          "output_type": "execute_result"
        }
      ],
      "source": [
        "# Cara 2\n",
        "# Code in here\n",
        "..."
      ]
    },
    {
      "cell_type": "markdown",
      "metadata": {
        "id": "1ZrIX3RTzgCH"
      },
      "source": [
        "**NOMOR 7 (Double Asteriks Statement)**\n",
        "\n",
        "Buatlah sebuah function untuk menampilkan nama siswa yang memiliki nilai paling besar\n",
        "  * Input : Beberapa nama_siswa beserta nilai_siswa\n",
        "\n",
        "\n",
        "| No | Input | Output |\n",
        "| - | - | - |\n",
        "| 1 | (anwar=90, budi=40, charlie=100) | 'charlie' |\n",
        "| 2 | (tom=30, rian=90, jim=60, lily=70, abby=40)| 'rian' |\n",
        "| 3 | (frank=100) | 'frank' |"
      ]
    },
    {
      "cell_type": "code",
      "execution_count": 21,
      "metadata": {
        "colab": {
          "base_uri": "https://localhost:8080/"
        },
        "id": "qAvTp-b9Knzr",
        "outputId": "7da15615-c712-4324-f147-9c28be238de8"
      },
      "outputs": [],
      "source": [
        "# Code in here\n",
        "..."
      ]
    },
    {
      "cell_type": "markdown",
      "metadata": {
        "id": "zaXcO2Y4Hur7"
      },
      "source": [
        "---\n",
        "## E. Section 5 : Modules"
      ]
    },
    {
      "cell_type": "markdown",
      "metadata": {
        "id": "ksG7wx2Fzzk-"
      },
      "source": [
        "**NOMOR 8**\n",
        "\n",
        "Buatlah sebuah file dengan nama `person.py` dengan isi :\n",
        "```\n",
        "name = 'zack'\n",
        "devices = ['laptop', 'smartphone', 'laptop']\n",
        "\n",
        "def introduction():\n",
        "  print('Hello my name is zack')\n"
      ]
    },
    {
      "cell_type": "markdown",
      "metadata": {
        "id": "DwQBH_iP0YbJ"
      },
      "source": [
        "Lakukan hal-hal dibawah ini :\n",
        "\n",
        "1. Load module `person`\n",
        "\n",
        "2. Tampilkan jenis `devices`\n",
        "\n",
        "3. Buat alias dari module `person` yang baru saja Anda load."
      ]
    },
    {
      "cell_type": "code",
      "execution_count": 22,
      "metadata": {
        "id": "3fxZkk-5N51o"
      },
      "outputs": [
        {
          "ename": "ModuleNotFoundError",
          "evalue": "No module named 'person'",
          "output_type": "error",
          "traceback": [
            "\u001b[1;31m---------------------------------------------------------------------------\u001b[0m",
            "\u001b[1;31mModuleNotFoundError\u001b[0m                       Traceback (most recent call last)",
            "Cell \u001b[1;32mIn[22], line 3\u001b[0m\n\u001b[0;32m      1\u001b[0m \u001b[38;5;66;03m# Load module `person`\u001b[39;00m\n\u001b[1;32m----> 3\u001b[0m \u001b[38;5;28;01mimport\u001b[39;00m \u001b[38;5;21;01mperson\u001b[39;00m\n",
            "\u001b[1;31mModuleNotFoundError\u001b[0m: No module named 'person'"
          ]
        }
      ],
      "source": [
        "# Load module `person`\n",
        "\n",
        "import person"
      ]
    },
    {
      "cell_type": "code",
      "execution_count": null,
      "metadata": {},
      "outputs": [],
      "source": [
        "# Cek method yang ada dalam module\n",
        "\n",
        "# Code in here\n",
        "..."
      ]
    },
    {
      "cell_type": "code",
      "execution_count": null,
      "metadata": {
        "colab": {
          "base_uri": "https://localhost:8080/"
        },
        "id": "8FuQGtEFORDC",
        "outputId": "344726ac-1056-426a-9b67-e3dce8e504fe"
      },
      "outputs": [
        {
          "data": {
            "text/plain": [
              "['laptop', 'smartphone', 'laptop']"
            ]
          },
          "execution_count": 2,
          "metadata": {},
          "output_type": "execute_result"
        }
      ],
      "source": [
        "# Menampilkan jenis devices\n",
        "\n",
        "# Code in here\n",
        "..."
      ]
    },
    {
      "cell_type": "code",
      "execution_count": null,
      "metadata": {},
      "outputs": [
        {
          "data": {
            "text/plain": [
              "'zack'"
            ]
          },
          "execution_count": 3,
          "metadata": {},
          "output_type": "execute_result"
        }
      ],
      "source": [
        "# Menampilkan name\n",
        "\n",
        "# Code in here\n",
        "..."
      ]
    },
    {
      "cell_type": "code",
      "execution_count": null,
      "metadata": {
        "colab": {
          "base_uri": "https://localhost:8080/"
        },
        "id": "8izHFV5sOfMj",
        "outputId": "d3c52f13-0b48-4dfe-dfb0-612780ffb8ec"
      },
      "outputs": [
        {
          "name": "stdout",
          "output_type": "stream",
          "text": [
            "Hello my name is zack\n"
          ]
        }
      ],
      "source": [
        "# Memanggil function didalam module\n",
        "\n",
        "# Code in here\n",
        "..."
      ]
    },
    {
      "cell_type": "code",
      "execution_count": null,
      "metadata": {
        "colab": {
          "base_uri": "https://localhost:8080/",
          "height": 36
        },
        "id": "oOm2n4dIOsJk",
        "outputId": "5706a930-4e32-4d21-bad1-9f8c43ff765d"
      },
      "outputs": [
        {
          "data": {
            "text/plain": [
              "'zack'"
            ]
          },
          "execution_count": 7,
          "metadata": {},
          "output_type": "execute_result"
        }
      ],
      "source": [
        "# Load module menggunakan alias\n",
        "\n",
        "# Code in here\n",
        "..."
      ]
    },
    {
      "cell_type": "markdown",
      "metadata": {
        "id": "WDthdwJ901e1"
      },
      "source": [
        "**NOMOR 9**\n",
        "\n",
        "Buatlah sebuah file dengan nama `car.py` dengan isi :\n",
        "```\n",
        "brand = ['honda', 'toyota', 'ford']\n",
        "country = ['japan', 'japan', 'usa']\n",
        "```\n",
        "\n",
        "Lakukan hal dibawah ini :\n",
        "\n",
        "1. Tampilkan variabel/elemet apa saja yang dapat Anda load dari module `car.py`\n",
        "\n",
        "2. Load hanya variabel `brand` dari module `car.py`"
      ]
    },
    {
      "cell_type": "code",
      "execution_count": null,
      "metadata": {
        "colab": {
          "base_uri": "https://localhost:8080/"
        },
        "id": "Um-Bnn49QC5o",
        "outputId": "9b193566-b36d-4357-d0d2-528adcae5115"
      },
      "outputs": [
        {
          "data": {
            "text/plain": [
              "['__builtins__',\n",
              " '__cached__',\n",
              " '__doc__',\n",
              " '__file__',\n",
              " '__loader__',\n",
              " '__name__',\n",
              " '__package__',\n",
              " '__spec__',\n",
              " 'brand',\n",
              " 'country']"
            ]
          },
          "execution_count": 9,
          "metadata": {},
          "output_type": "execute_result"
        }
      ],
      "source": [
        "# Load `car.py` dan cek element pada module `car.py`\n",
        "\n",
        "# Code in here\n",
        "..."
      ]
    },
    {
      "cell_type": "code",
      "execution_count": null,
      "metadata": {
        "colab": {
          "base_uri": "https://localhost:8080/"
        },
        "id": "dV0isL9XQanS",
        "outputId": "41e06555-7c11-46e5-803d-d492475d284c"
      },
      "outputs": [
        {
          "data": {
            "text/plain": [
              "['honda', 'toyota', 'ford']"
            ]
          },
          "execution_count": 11,
          "metadata": {},
          "output_type": "execute_result"
        }
      ],
      "source": [
        "# Load bagian yang spesifik didalam sebuah module\n",
        "\n",
        "# Code in here\n",
        "..."
      ]
    },
    {
      "cell_type": "markdown",
      "metadata": {
        "id": "78m5o69u1X1w"
      },
      "source": [
        "**NOMOR 10**\n",
        "\n",
        "Lakukan hal dibawah ini :\n",
        "\n",
        "1. Install library bernama `pymongo`.\n",
        "\n",
        "2. Cek lokasi dimana library tersebut berada.\n",
        "\n",
        "3. Cek versi library yang baru saja Anda install."
      ]
    },
    {
      "cell_type": "code",
      "execution_count": null,
      "metadata": {
        "colab": {
          "base_uri": "https://localhost:8080/"
        },
        "id": "DzSNlhOOROw2",
        "outputId": "78b9fd4f-bde4-46d7-9e64-81b7b85c0d74"
      },
      "outputs": [],
      "source": [
        "# Install library pymongo\n",
        "\n",
        "pip install pymongo"
      ]
    },
    {
      "cell_type": "code",
      "execution_count": null,
      "metadata": {
        "colab": {
          "base_uri": "https://localhost:8080/"
        },
        "id": "fVgmnxmIRk46",
        "outputId": "1acf150a-ba19-442d-a0c8-9367134cedec"
      },
      "outputs": [],
      "source": [
        "# Cek lokasi pymongo dan version pymongo\n",
        "\n",
        "# Code in here\n",
        "..."
      ]
    }
  ],
  "metadata": {
    "colab": {
      "provenance": [],
      "toc_visible": true
    },
    "kernelspec": {
      "display_name": "Python 3",
      "name": "python3"
    },
    "language_info": {
      "codemirror_mode": {
        "name": "ipython",
        "version": 3
      },
      "file_extension": ".py",
      "mimetype": "text/x-python",
      "name": "python",
      "nbconvert_exporter": "python",
      "pygments_lexer": "ipython3",
      "version": "3.12.4"
    }
  },
  "nbformat": 4,
  "nbformat_minor": 0
}
